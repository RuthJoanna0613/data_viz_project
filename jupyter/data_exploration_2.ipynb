{
 "cells": [
  {
   "cell_type": "code",
   "execution_count": 46,
   "metadata": {},
   "outputs": [],
   "source": [
    "import pandas as pd\n",
    "import numpy as np\n",
    "import plotly.express as px"
   ]
  },
  {
   "cell_type": "code",
   "execution_count": 67,
   "metadata": {},
   "outputs": [],
   "source": [
    "crime_dataset = pd.read_csv('../datasets folder/dstrIPC_1.csv')\n",
    "gdp_dataset = pd.read_csv('../datasets folder/Districtwise_GDP_and_growth_rate_based_at_current_price_2004-05_AndhraPradesh_1.csv')\n",
    "education_dataset = pd.read_csv('../datasets folder/Educational_standard_of_inmates.csv')"
   ]
  },
  {
   "cell_type": "code",
   "execution_count": 68,
   "metadata": {},
   "outputs": [
    {
     "data": {
      "text/html": [
       "<div>\n",
       "<style scoped>\n",
       "    .dataframe tbody tr th:only-of-type {\n",
       "        vertical-align: middle;\n",
       "    }\n",
       "\n",
       "    .dataframe tbody tr th {\n",
       "        vertical-align: top;\n",
       "    }\n",
       "\n",
       "    .dataframe thead th {\n",
       "        text-align: right;\n",
       "    }\n",
       "</style>\n",
       "<table border=\"1\" class=\"dataframe\">\n",
       "  <thead>\n",
       "    <tr style=\"text-align: right;\">\n",
       "      <th></th>\n",
       "      <th>STATE/UT</th>\n",
       "      <th>DISTRICT</th>\n",
       "      <th>YEAR</th>\n",
       "      <th>MURDER</th>\n",
       "      <th>ATTEMPT TO MURDER</th>\n",
       "      <th>CULPABLE HOMICIDE NOT AMOUNTING TO MURDER</th>\n",
       "      <th>RAPE</th>\n",
       "      <th>CUSTODIAL RAPE</th>\n",
       "      <th>OTHER RAPE</th>\n",
       "      <th>KIDNAPPING &amp; ABDUCTION</th>\n",
       "      <th>...</th>\n",
       "      <th>ARSON</th>\n",
       "      <th>HURT/GREVIOUS HURT</th>\n",
       "      <th>DOWRY DEATHS</th>\n",
       "      <th>ASSAULT ON WOMEN WITH INTENT TO OUTRAGE HER MODESTY</th>\n",
       "      <th>INSULT TO MODESTY OF WOMEN</th>\n",
       "      <th>CRUELTY BY HUSBAND OR HIS RELATIVES</th>\n",
       "      <th>IMPORTATION OF GIRLS FROM FOREIGN COUNTRIES</th>\n",
       "      <th>CAUSING DEATH BY NEGLIGENCE</th>\n",
       "      <th>OTHER IPC CRIMES</th>\n",
       "      <th>TOTAL IPC CRIMES</th>\n",
       "    </tr>\n",
       "  </thead>\n",
       "  <tbody>\n",
       "    <tr>\n",
       "      <th>0</th>\n",
       "      <td>ANDHRA PRADESH</td>\n",
       "      <td>ADILABAD</td>\n",
       "      <td>2001</td>\n",
       "      <td>101</td>\n",
       "      <td>60</td>\n",
       "      <td>17</td>\n",
       "      <td>50</td>\n",
       "      <td>0</td>\n",
       "      <td>50</td>\n",
       "      <td>46</td>\n",
       "      <td>...</td>\n",
       "      <td>30</td>\n",
       "      <td>1131</td>\n",
       "      <td>16</td>\n",
       "      <td>149</td>\n",
       "      <td>34</td>\n",
       "      <td>175</td>\n",
       "      <td>0</td>\n",
       "      <td>181</td>\n",
       "      <td>1518</td>\n",
       "      <td>4154</td>\n",
       "    </tr>\n",
       "    <tr>\n",
       "      <th>1</th>\n",
       "      <td>ANDHRA PRADESH</td>\n",
       "      <td>ANANTAPUR</td>\n",
       "      <td>2001</td>\n",
       "      <td>151</td>\n",
       "      <td>125</td>\n",
       "      <td>1</td>\n",
       "      <td>23</td>\n",
       "      <td>0</td>\n",
       "      <td>23</td>\n",
       "      <td>53</td>\n",
       "      <td>...</td>\n",
       "      <td>69</td>\n",
       "      <td>1543</td>\n",
       "      <td>7</td>\n",
       "      <td>118</td>\n",
       "      <td>24</td>\n",
       "      <td>154</td>\n",
       "      <td>0</td>\n",
       "      <td>270</td>\n",
       "      <td>754</td>\n",
       "      <td>4125</td>\n",
       "    </tr>\n",
       "    <tr>\n",
       "      <th>2</th>\n",
       "      <td>ANDHRA PRADESH</td>\n",
       "      <td>CHITTOOR</td>\n",
       "      <td>2001</td>\n",
       "      <td>101</td>\n",
       "      <td>57</td>\n",
       "      <td>2</td>\n",
       "      <td>27</td>\n",
       "      <td>0</td>\n",
       "      <td>27</td>\n",
       "      <td>59</td>\n",
       "      <td>...</td>\n",
       "      <td>38</td>\n",
       "      <td>2088</td>\n",
       "      <td>14</td>\n",
       "      <td>112</td>\n",
       "      <td>83</td>\n",
       "      <td>186</td>\n",
       "      <td>0</td>\n",
       "      <td>404</td>\n",
       "      <td>1262</td>\n",
       "      <td>5818</td>\n",
       "    </tr>\n",
       "    <tr>\n",
       "      <th>3</th>\n",
       "      <td>ANDHRA PRADESH</td>\n",
       "      <td>CUDDAPAH</td>\n",
       "      <td>2001</td>\n",
       "      <td>80</td>\n",
       "      <td>53</td>\n",
       "      <td>1</td>\n",
       "      <td>20</td>\n",
       "      <td>0</td>\n",
       "      <td>20</td>\n",
       "      <td>25</td>\n",
       "      <td>...</td>\n",
       "      <td>23</td>\n",
       "      <td>795</td>\n",
       "      <td>17</td>\n",
       "      <td>126</td>\n",
       "      <td>38</td>\n",
       "      <td>57</td>\n",
       "      <td>0</td>\n",
       "      <td>233</td>\n",
       "      <td>1181</td>\n",
       "      <td>3140</td>\n",
       "    </tr>\n",
       "    <tr>\n",
       "      <th>4</th>\n",
       "      <td>ANDHRA PRADESH</td>\n",
       "      <td>EAST GODAVARI</td>\n",
       "      <td>2001</td>\n",
       "      <td>82</td>\n",
       "      <td>67</td>\n",
       "      <td>1</td>\n",
       "      <td>23</td>\n",
       "      <td>0</td>\n",
       "      <td>23</td>\n",
       "      <td>49</td>\n",
       "      <td>...</td>\n",
       "      <td>41</td>\n",
       "      <td>1244</td>\n",
       "      <td>12</td>\n",
       "      <td>109</td>\n",
       "      <td>58</td>\n",
       "      <td>247</td>\n",
       "      <td>0</td>\n",
       "      <td>431</td>\n",
       "      <td>2313</td>\n",
       "      <td>6507</td>\n",
       "    </tr>\n",
       "  </tbody>\n",
       "</table>\n",
       "<p>5 rows × 33 columns</p>\n",
       "</div>"
      ],
      "text/plain": [
       "         STATE/UT       DISTRICT  YEAR  MURDER  ATTEMPT TO MURDER  \\\n",
       "0  ANDHRA PRADESH       ADILABAD  2001     101                 60   \n",
       "1  ANDHRA PRADESH      ANANTAPUR  2001     151                125   \n",
       "2  ANDHRA PRADESH       CHITTOOR  2001     101                 57   \n",
       "3  ANDHRA PRADESH       CUDDAPAH  2001      80                 53   \n",
       "4  ANDHRA PRADESH  EAST GODAVARI  2001      82                 67   \n",
       "\n",
       "   CULPABLE HOMICIDE NOT AMOUNTING TO MURDER  RAPE  CUSTODIAL RAPE  \\\n",
       "0                                         17    50               0   \n",
       "1                                          1    23               0   \n",
       "2                                          2    27               0   \n",
       "3                                          1    20               0   \n",
       "4                                          1    23               0   \n",
       "\n",
       "   OTHER RAPE  KIDNAPPING & ABDUCTION  ...  ARSON  HURT/GREVIOUS HURT  \\\n",
       "0          50                      46  ...     30                1131   \n",
       "1          23                      53  ...     69                1543   \n",
       "2          27                      59  ...     38                2088   \n",
       "3          20                      25  ...     23                 795   \n",
       "4          23                      49  ...     41                1244   \n",
       "\n",
       "   DOWRY DEATHS  ASSAULT ON WOMEN WITH INTENT TO OUTRAGE HER MODESTY  \\\n",
       "0            16                                                149     \n",
       "1             7                                                118     \n",
       "2            14                                                112     \n",
       "3            17                                                126     \n",
       "4            12                                                109     \n",
       "\n",
       "   INSULT TO MODESTY OF WOMEN  CRUELTY BY HUSBAND OR HIS RELATIVES  \\\n",
       "0                          34                                  175   \n",
       "1                          24                                  154   \n",
       "2                          83                                  186   \n",
       "3                          38                                   57   \n",
       "4                          58                                  247   \n",
       "\n",
       "   IMPORTATION OF GIRLS FROM FOREIGN COUNTRIES  CAUSING DEATH BY NEGLIGENCE  \\\n",
       "0                                            0                          181   \n",
       "1                                            0                          270   \n",
       "2                                            0                          404   \n",
       "3                                            0                          233   \n",
       "4                                            0                          431   \n",
       "\n",
       "   OTHER IPC CRIMES  TOTAL IPC CRIMES  \n",
       "0              1518              4154  \n",
       "1               754              4125  \n",
       "2              1262              5818  \n",
       "3              1181              3140  \n",
       "4              2313              6507  \n",
       "\n",
       "[5 rows x 33 columns]"
      ]
     },
     "execution_count": 68,
     "metadata": {},
     "output_type": "execute_result"
    }
   ],
   "source": [
    "crime_dataset.head()"
   ]
  },
  {
   "cell_type": "code",
   "execution_count": 69,
   "metadata": {},
   "outputs": [
    {
     "data": {
      "text/html": [
       "<div>\n",
       "<style scoped>\n",
       "    .dataframe tbody tr th:only-of-type {\n",
       "        vertical-align: middle;\n",
       "    }\n",
       "\n",
       "    .dataframe tbody tr th {\n",
       "        vertical-align: top;\n",
       "    }\n",
       "\n",
       "    .dataframe thead th {\n",
       "        text-align: right;\n",
       "    }\n",
       "</style>\n",
       "<table border=\"1\" class=\"dataframe\">\n",
       "  <thead>\n",
       "    <tr style=\"text-align: right;\">\n",
       "      <th></th>\n",
       "      <th>Year</th>\n",
       "      <th>Description</th>\n",
       "      <th>Adilabad</th>\n",
       "      <th>Anantapur</th>\n",
       "      <th>Chittoor</th>\n",
       "      <th>Godavari East</th>\n",
       "      <th>Godavari West</th>\n",
       "      <th>Guntur</th>\n",
       "      <th>Hyderabad</th>\n",
       "      <th>Kadapa</th>\n",
       "      <th>...</th>\n",
       "      <th>Medak</th>\n",
       "      <th>Nalgonda</th>\n",
       "      <th>Nellore</th>\n",
       "      <th>Nizambad</th>\n",
       "      <th>Prakasam</th>\n",
       "      <th>Rangareddy</th>\n",
       "      <th>Srikakulam</th>\n",
       "      <th>Visakapatnam</th>\n",
       "      <th>Vizianagaram</th>\n",
       "      <th>Warangal</th>\n",
       "    </tr>\n",
       "  </thead>\n",
       "  <tbody>\n",
       "    <tr>\n",
       "      <th>0</th>\n",
       "      <td>2004-05</td>\n",
       "      <td>GDP (in Rs. Cr.)</td>\n",
       "      <td>6527.41</td>\n",
       "      <td>9286.21</td>\n",
       "      <td>9048.39</td>\n",
       "      <td>17289.90</td>\n",
       "      <td>12704.42</td>\n",
       "      <td>11878.60</td>\n",
       "      <td>16932.79</td>\n",
       "      <td>6287.94</td>\n",
       "      <td>...</td>\n",
       "      <td>8906.57</td>\n",
       "      <td>7658.54</td>\n",
       "      <td>7612.73</td>\n",
       "      <td>4869.16</td>\n",
       "      <td>8507.54</td>\n",
       "      <td>13310.46</td>\n",
       "      <td>5059.99</td>\n",
       "      <td>19371.01</td>\n",
       "      <td>4988.90</td>\n",
       "      <td>7349.51</td>\n",
       "    </tr>\n",
       "    <tr>\n",
       "      <th>1</th>\n",
       "      <td>2005-06</td>\n",
       "      <td>GDP (in Rs. Cr.)</td>\n",
       "      <td>7058.60</td>\n",
       "      <td>10047.71</td>\n",
       "      <td>10390.13</td>\n",
       "      <td>16827.15</td>\n",
       "      <td>12791.82</td>\n",
       "      <td>14374.44</td>\n",
       "      <td>20523.91</td>\n",
       "      <td>7050.27</td>\n",
       "      <td>...</td>\n",
       "      <td>10613.40</td>\n",
       "      <td>9047.11</td>\n",
       "      <td>8607.98</td>\n",
       "      <td>5940.28</td>\n",
       "      <td>9959.52</td>\n",
       "      <td>17377.63</td>\n",
       "      <td>5570.88</td>\n",
       "      <td>20497.10</td>\n",
       "      <td>5315.09</td>\n",
       "      <td>8530.56</td>\n",
       "    </tr>\n",
       "    <tr>\n",
       "      <th>2</th>\n",
       "      <td>2006-07</td>\n",
       "      <td>GDP (in Rs. Cr.)</td>\n",
       "      <td>8300.56</td>\n",
       "      <td>11252.83</td>\n",
       "      <td>11594.82</td>\n",
       "      <td>20208.88</td>\n",
       "      <td>14156.37</td>\n",
       "      <td>16183.82</td>\n",
       "      <td>25016.85</td>\n",
       "      <td>12448.79</td>\n",
       "      <td>...</td>\n",
       "      <td>13879.77</td>\n",
       "      <td>10423.51</td>\n",
       "      <td>10215.80</td>\n",
       "      <td>6557.73</td>\n",
       "      <td>11801.02</td>\n",
       "      <td>21023.21</td>\n",
       "      <td>6482.82</td>\n",
       "      <td>24695.94</td>\n",
       "      <td>6125.50</td>\n",
       "      <td>9289.90</td>\n",
       "    </tr>\n",
       "    <tr>\n",
       "      <th>3</th>\n",
       "      <td>2007-08</td>\n",
       "      <td>GDP (in Rs. Cr.)</td>\n",
       "      <td>9860.16</td>\n",
       "      <td>15937.45</td>\n",
       "      <td>14241.18</td>\n",
       "      <td>24081.05</td>\n",
       "      <td>17473.10</td>\n",
       "      <td>19125.08</td>\n",
       "      <td>30038.38</td>\n",
       "      <td>14393.29</td>\n",
       "      <td>...</td>\n",
       "      <td>14716.18</td>\n",
       "      <td>14736.51</td>\n",
       "      <td>11952.25</td>\n",
       "      <td>7976.66</td>\n",
       "      <td>13304.80</td>\n",
       "      <td>24916.80</td>\n",
       "      <td>7615.25</td>\n",
       "      <td>30570.33</td>\n",
       "      <td>7639.31</td>\n",
       "      <td>11233.17</td>\n",
       "    </tr>\n",
       "    <tr>\n",
       "      <th>4</th>\n",
       "      <td>2008-09</td>\n",
       "      <td>GDP (in Rs. Cr.)</td>\n",
       "      <td>12342.93</td>\n",
       "      <td>17713.73</td>\n",
       "      <td>15998.11</td>\n",
       "      <td>27446.05</td>\n",
       "      <td>18552.27</td>\n",
       "      <td>22550.47</td>\n",
       "      <td>35536.76</td>\n",
       "      <td>11911.79</td>\n",
       "      <td>...</td>\n",
       "      <td>18732.63</td>\n",
       "      <td>18346.31</td>\n",
       "      <td>14451.33</td>\n",
       "      <td>11428.43</td>\n",
       "      <td>17495.58</td>\n",
       "      <td>31846.81</td>\n",
       "      <td>8835.04</td>\n",
       "      <td>30638.93</td>\n",
       "      <td>8886.84</td>\n",
       "      <td>13705.13</td>\n",
       "    </tr>\n",
       "    <tr>\n",
       "      <th>5</th>\n",
       "      <td>2009-10</td>\n",
       "      <td>GDP (in Rs. Cr.)</td>\n",
       "      <td>13291.00</td>\n",
       "      <td>18647.00</td>\n",
       "      <td>17628.00</td>\n",
       "      <td>31687.00</td>\n",
       "      <td>22711.00</td>\n",
       "      <td>26441.00</td>\n",
       "      <td>39564.00</td>\n",
       "      <td>13197.00</td>\n",
       "      <td>...</td>\n",
       "      <td>20744.00</td>\n",
       "      <td>18634.00</td>\n",
       "      <td>16455.00</td>\n",
       "      <td>10507.00</td>\n",
       "      <td>19389.00</td>\n",
       "      <td>34069.00</td>\n",
       "      <td>10427.00</td>\n",
       "      <td>37274.00</td>\n",
       "      <td>10104.00</td>\n",
       "      <td>14441.00</td>\n",
       "    </tr>\n",
       "    <tr>\n",
       "      <th>6</th>\n",
       "      <td>2010-11</td>\n",
       "      <td>GDP (in Rs. Cr.)</td>\n",
       "      <td>16508.00</td>\n",
       "      <td>22071.00</td>\n",
       "      <td>22257.00</td>\n",
       "      <td>34374.00</td>\n",
       "      <td>28340.00</td>\n",
       "      <td>30764.00</td>\n",
       "      <td>47610.00</td>\n",
       "      <td>16548.00</td>\n",
       "      <td>...</td>\n",
       "      <td>30668.00</td>\n",
       "      <td>22185.00</td>\n",
       "      <td>18231.00</td>\n",
       "      <td>14242.00</td>\n",
       "      <td>23450.00</td>\n",
       "      <td>48226.00</td>\n",
       "      <td>12149.00</td>\n",
       "      <td>42841.00</td>\n",
       "      <td>12187.00</td>\n",
       "      <td>19107.00</td>\n",
       "    </tr>\n",
       "    <tr>\n",
       "      <th>7</th>\n",
       "      <td>2011-12</td>\n",
       "      <td>GDP (in Rs. Cr.)</td>\n",
       "      <td>17330.00</td>\n",
       "      <td>25577.00</td>\n",
       "      <td>26862.00</td>\n",
       "      <td>38600.00</td>\n",
       "      <td>30692.00</td>\n",
       "      <td>36133.00</td>\n",
       "      <td>54839.00</td>\n",
       "      <td>18875.00</td>\n",
       "      <td>...</td>\n",
       "      <td>36418.00</td>\n",
       "      <td>24830.00</td>\n",
       "      <td>22349.00</td>\n",
       "      <td>15163.00</td>\n",
       "      <td>26593.00</td>\n",
       "      <td>54814.00</td>\n",
       "      <td>14023.00</td>\n",
       "      <td>50503.00</td>\n",
       "      <td>13864.00</td>\n",
       "      <td>20255.00</td>\n",
       "    </tr>\n",
       "    <tr>\n",
       "      <th>8</th>\n",
       "      <td>2012-13</td>\n",
       "      <td>GDP (in Rs. Cr.)</td>\n",
       "      <td>19641.00</td>\n",
       "      <td>29133.00</td>\n",
       "      <td>30593.00</td>\n",
       "      <td>44254.00</td>\n",
       "      <td>35456.00</td>\n",
       "      <td>41650.00</td>\n",
       "      <td>62894.00</td>\n",
       "      <td>21440.00</td>\n",
       "      <td>...</td>\n",
       "      <td>40075.00</td>\n",
       "      <td>28174.00</td>\n",
       "      <td>25569.00</td>\n",
       "      <td>17407.00</td>\n",
       "      <td>30474.00</td>\n",
       "      <td>61199.00</td>\n",
       "      <td>16050.00</td>\n",
       "      <td>56668.00</td>\n",
       "      <td>15858.00</td>\n",
       "      <td>23247.00</td>\n",
       "    </tr>\n",
       "    <tr>\n",
       "      <th>9</th>\n",
       "      <td>2005-06</td>\n",
       "      <td>Growth Rate % (YoY)</td>\n",
       "      <td>8.14</td>\n",
       "      <td>8.20</td>\n",
       "      <td>14.83</td>\n",
       "      <td>-2.68</td>\n",
       "      <td>0.69</td>\n",
       "      <td>21.01</td>\n",
       "      <td>21.21</td>\n",
       "      <td>12.12</td>\n",
       "      <td>...</td>\n",
       "      <td>19.16</td>\n",
       "      <td>18.13</td>\n",
       "      <td>13.07</td>\n",
       "      <td>22.00</td>\n",
       "      <td>17.07</td>\n",
       "      <td>30.56</td>\n",
       "      <td>10.10</td>\n",
       "      <td>5.81</td>\n",
       "      <td>6.54</td>\n",
       "      <td>16.07</td>\n",
       "    </tr>\n",
       "  </tbody>\n",
       "</table>\n",
       "<p>10 rows × 25 columns</p>\n",
       "</div>"
      ],
      "text/plain": [
       "      Year          Description  Adilabad  Anantapur  Chittoor  Godavari East  \\\n",
       "0  2004-05     GDP (in Rs. Cr.)   6527.41    9286.21   9048.39       17289.90   \n",
       "1  2005-06     GDP (in Rs. Cr.)   7058.60   10047.71  10390.13       16827.15   \n",
       "2  2006-07     GDP (in Rs. Cr.)   8300.56   11252.83  11594.82       20208.88   \n",
       "3  2007-08     GDP (in Rs. Cr.)   9860.16   15937.45  14241.18       24081.05   \n",
       "4  2008-09     GDP (in Rs. Cr.)  12342.93   17713.73  15998.11       27446.05   \n",
       "5  2009-10     GDP (in Rs. Cr.)  13291.00   18647.00  17628.00       31687.00   \n",
       "6  2010-11     GDP (in Rs. Cr.)  16508.00   22071.00  22257.00       34374.00   \n",
       "7  2011-12     GDP (in Rs. Cr.)  17330.00   25577.00  26862.00       38600.00   \n",
       "8  2012-13     GDP (in Rs. Cr.)  19641.00   29133.00  30593.00       44254.00   \n",
       "9  2005-06  Growth Rate % (YoY)      8.14       8.20     14.83          -2.68   \n",
       "\n",
       "   Godavari West    Guntur  Hyderabad    Kadapa  ...     Medak  Nalgonda  \\\n",
       "0       12704.42  11878.60   16932.79   6287.94  ...   8906.57   7658.54   \n",
       "1       12791.82  14374.44   20523.91   7050.27  ...  10613.40   9047.11   \n",
       "2       14156.37  16183.82   25016.85  12448.79  ...  13879.77  10423.51   \n",
       "3       17473.10  19125.08   30038.38  14393.29  ...  14716.18  14736.51   \n",
       "4       18552.27  22550.47   35536.76  11911.79  ...  18732.63  18346.31   \n",
       "5       22711.00  26441.00   39564.00  13197.00  ...  20744.00  18634.00   \n",
       "6       28340.00  30764.00   47610.00  16548.00  ...  30668.00  22185.00   \n",
       "7       30692.00  36133.00   54839.00  18875.00  ...  36418.00  24830.00   \n",
       "8       35456.00  41650.00   62894.00  21440.00  ...  40075.00  28174.00   \n",
       "9           0.69     21.01      21.21     12.12  ...     19.16     18.13   \n",
       "\n",
       "    Nellore  Nizambad  Prakasam  Rangareddy  Srikakulam  Visakapatnam  \\\n",
       "0   7612.73   4869.16   8507.54    13310.46     5059.99      19371.01   \n",
       "1   8607.98   5940.28   9959.52    17377.63     5570.88      20497.10   \n",
       "2  10215.80   6557.73  11801.02    21023.21     6482.82      24695.94   \n",
       "3  11952.25   7976.66  13304.80    24916.80     7615.25      30570.33   \n",
       "4  14451.33  11428.43  17495.58    31846.81     8835.04      30638.93   \n",
       "5  16455.00  10507.00  19389.00    34069.00    10427.00      37274.00   \n",
       "6  18231.00  14242.00  23450.00    48226.00    12149.00      42841.00   \n",
       "7  22349.00  15163.00  26593.00    54814.00    14023.00      50503.00   \n",
       "8  25569.00  17407.00  30474.00    61199.00    16050.00      56668.00   \n",
       "9     13.07     22.00     17.07       30.56       10.10          5.81   \n",
       "\n",
       "   Vizianagaram  Warangal  \n",
       "0       4988.90   7349.51  \n",
       "1       5315.09   8530.56  \n",
       "2       6125.50   9289.90  \n",
       "3       7639.31  11233.17  \n",
       "4       8886.84  13705.13  \n",
       "5      10104.00  14441.00  \n",
       "6      12187.00  19107.00  \n",
       "7      13864.00  20255.00  \n",
       "8      15858.00  23247.00  \n",
       "9          6.54     16.07  \n",
       "\n",
       "[10 rows x 25 columns]"
      ]
     },
     "execution_count": 69,
     "metadata": {},
     "output_type": "execute_result"
    }
   ],
   "source": [
    "gdp_dataset.head(10)"
   ]
  },
  {
   "cell_type": "code",
   "execution_count": 70,
   "metadata": {},
   "outputs": [],
   "source": [
    "## Extracting only the GDP from the dataset\n",
    "\n",
    "gdp_dataset = gdp_dataset.loc[gdp_dataset['Description'] == 'GDP (in Rs. Cr.)']"
   ]
  },
  {
   "cell_type": "code",
   "execution_count": 71,
   "metadata": {},
   "outputs": [
    {
     "data": {
      "text/html": [
       "<div>\n",
       "<style scoped>\n",
       "    .dataframe tbody tr th:only-of-type {\n",
       "        vertical-align: middle;\n",
       "    }\n",
       "\n",
       "    .dataframe tbody tr th {\n",
       "        vertical-align: top;\n",
       "    }\n",
       "\n",
       "    .dataframe thead th {\n",
       "        text-align: right;\n",
       "    }\n",
       "</style>\n",
       "<table border=\"1\" class=\"dataframe\">\n",
       "  <thead>\n",
       "    <tr style=\"text-align: right;\">\n",
       "      <th></th>\n",
       "      <th>Year</th>\n",
       "      <th>Description</th>\n",
       "      <th>Adilabad</th>\n",
       "      <th>Anantapur</th>\n",
       "      <th>Chittoor</th>\n",
       "      <th>Godavari East</th>\n",
       "      <th>Godavari West</th>\n",
       "      <th>Guntur</th>\n",
       "      <th>Hyderabad</th>\n",
       "      <th>Kadapa</th>\n",
       "      <th>...</th>\n",
       "      <th>Medak</th>\n",
       "      <th>Nalgonda</th>\n",
       "      <th>Nellore</th>\n",
       "      <th>Nizambad</th>\n",
       "      <th>Prakasam</th>\n",
       "      <th>Rangareddy</th>\n",
       "      <th>Srikakulam</th>\n",
       "      <th>Visakapatnam</th>\n",
       "      <th>Vizianagaram</th>\n",
       "      <th>Warangal</th>\n",
       "    </tr>\n",
       "  </thead>\n",
       "  <tbody>\n",
       "    <tr>\n",
       "      <th>0</th>\n",
       "      <td>2004-05</td>\n",
       "      <td>GDP (in Rs. Cr.)</td>\n",
       "      <td>6527.41</td>\n",
       "      <td>9286.21</td>\n",
       "      <td>9048.39</td>\n",
       "      <td>17289.90</td>\n",
       "      <td>12704.42</td>\n",
       "      <td>11878.60</td>\n",
       "      <td>16932.79</td>\n",
       "      <td>6287.94</td>\n",
       "      <td>...</td>\n",
       "      <td>8906.57</td>\n",
       "      <td>7658.54</td>\n",
       "      <td>7612.73</td>\n",
       "      <td>4869.16</td>\n",
       "      <td>8507.54</td>\n",
       "      <td>13310.46</td>\n",
       "      <td>5059.99</td>\n",
       "      <td>19371.01</td>\n",
       "      <td>4988.90</td>\n",
       "      <td>7349.51</td>\n",
       "    </tr>\n",
       "    <tr>\n",
       "      <th>1</th>\n",
       "      <td>2005-06</td>\n",
       "      <td>GDP (in Rs. Cr.)</td>\n",
       "      <td>7058.60</td>\n",
       "      <td>10047.71</td>\n",
       "      <td>10390.13</td>\n",
       "      <td>16827.15</td>\n",
       "      <td>12791.82</td>\n",
       "      <td>14374.44</td>\n",
       "      <td>20523.91</td>\n",
       "      <td>7050.27</td>\n",
       "      <td>...</td>\n",
       "      <td>10613.40</td>\n",
       "      <td>9047.11</td>\n",
       "      <td>8607.98</td>\n",
       "      <td>5940.28</td>\n",
       "      <td>9959.52</td>\n",
       "      <td>17377.63</td>\n",
       "      <td>5570.88</td>\n",
       "      <td>20497.10</td>\n",
       "      <td>5315.09</td>\n",
       "      <td>8530.56</td>\n",
       "    </tr>\n",
       "    <tr>\n",
       "      <th>2</th>\n",
       "      <td>2006-07</td>\n",
       "      <td>GDP (in Rs. Cr.)</td>\n",
       "      <td>8300.56</td>\n",
       "      <td>11252.83</td>\n",
       "      <td>11594.82</td>\n",
       "      <td>20208.88</td>\n",
       "      <td>14156.37</td>\n",
       "      <td>16183.82</td>\n",
       "      <td>25016.85</td>\n",
       "      <td>12448.79</td>\n",
       "      <td>...</td>\n",
       "      <td>13879.77</td>\n",
       "      <td>10423.51</td>\n",
       "      <td>10215.80</td>\n",
       "      <td>6557.73</td>\n",
       "      <td>11801.02</td>\n",
       "      <td>21023.21</td>\n",
       "      <td>6482.82</td>\n",
       "      <td>24695.94</td>\n",
       "      <td>6125.50</td>\n",
       "      <td>9289.90</td>\n",
       "    </tr>\n",
       "    <tr>\n",
       "      <th>3</th>\n",
       "      <td>2007-08</td>\n",
       "      <td>GDP (in Rs. Cr.)</td>\n",
       "      <td>9860.16</td>\n",
       "      <td>15937.45</td>\n",
       "      <td>14241.18</td>\n",
       "      <td>24081.05</td>\n",
       "      <td>17473.10</td>\n",
       "      <td>19125.08</td>\n",
       "      <td>30038.38</td>\n",
       "      <td>14393.29</td>\n",
       "      <td>...</td>\n",
       "      <td>14716.18</td>\n",
       "      <td>14736.51</td>\n",
       "      <td>11952.25</td>\n",
       "      <td>7976.66</td>\n",
       "      <td>13304.80</td>\n",
       "      <td>24916.80</td>\n",
       "      <td>7615.25</td>\n",
       "      <td>30570.33</td>\n",
       "      <td>7639.31</td>\n",
       "      <td>11233.17</td>\n",
       "    </tr>\n",
       "    <tr>\n",
       "      <th>4</th>\n",
       "      <td>2008-09</td>\n",
       "      <td>GDP (in Rs. Cr.)</td>\n",
       "      <td>12342.93</td>\n",
       "      <td>17713.73</td>\n",
       "      <td>15998.11</td>\n",
       "      <td>27446.05</td>\n",
       "      <td>18552.27</td>\n",
       "      <td>22550.47</td>\n",
       "      <td>35536.76</td>\n",
       "      <td>11911.79</td>\n",
       "      <td>...</td>\n",
       "      <td>18732.63</td>\n",
       "      <td>18346.31</td>\n",
       "      <td>14451.33</td>\n",
       "      <td>11428.43</td>\n",
       "      <td>17495.58</td>\n",
       "      <td>31846.81</td>\n",
       "      <td>8835.04</td>\n",
       "      <td>30638.93</td>\n",
       "      <td>8886.84</td>\n",
       "      <td>13705.13</td>\n",
       "    </tr>\n",
       "  </tbody>\n",
       "</table>\n",
       "<p>5 rows × 25 columns</p>\n",
       "</div>"
      ],
      "text/plain": [
       "      Year       Description  Adilabad  Anantapur  Chittoor  Godavari East  \\\n",
       "0  2004-05  GDP (in Rs. Cr.)   6527.41    9286.21   9048.39       17289.90   \n",
       "1  2005-06  GDP (in Rs. Cr.)   7058.60   10047.71  10390.13       16827.15   \n",
       "2  2006-07  GDP (in Rs. Cr.)   8300.56   11252.83  11594.82       20208.88   \n",
       "3  2007-08  GDP (in Rs. Cr.)   9860.16   15937.45  14241.18       24081.05   \n",
       "4  2008-09  GDP (in Rs. Cr.)  12342.93   17713.73  15998.11       27446.05   \n",
       "\n",
       "   Godavari West    Guntur  Hyderabad    Kadapa  ...     Medak  Nalgonda  \\\n",
       "0       12704.42  11878.60   16932.79   6287.94  ...   8906.57   7658.54   \n",
       "1       12791.82  14374.44   20523.91   7050.27  ...  10613.40   9047.11   \n",
       "2       14156.37  16183.82   25016.85  12448.79  ...  13879.77  10423.51   \n",
       "3       17473.10  19125.08   30038.38  14393.29  ...  14716.18  14736.51   \n",
       "4       18552.27  22550.47   35536.76  11911.79  ...  18732.63  18346.31   \n",
       "\n",
       "    Nellore  Nizambad  Prakasam  Rangareddy  Srikakulam  Visakapatnam  \\\n",
       "0   7612.73   4869.16   8507.54    13310.46     5059.99      19371.01   \n",
       "1   8607.98   5940.28   9959.52    17377.63     5570.88      20497.10   \n",
       "2  10215.80   6557.73  11801.02    21023.21     6482.82      24695.94   \n",
       "3  11952.25   7976.66  13304.80    24916.80     7615.25      30570.33   \n",
       "4  14451.33  11428.43  17495.58    31846.81     8835.04      30638.93   \n",
       "\n",
       "   Vizianagaram  Warangal  \n",
       "0       4988.90   7349.51  \n",
       "1       5315.09   8530.56  \n",
       "2       6125.50   9289.90  \n",
       "3       7639.31  11233.17  \n",
       "4       8886.84  13705.13  \n",
       "\n",
       "[5 rows x 25 columns]"
      ]
     },
     "execution_count": 71,
     "metadata": {},
     "output_type": "execute_result"
    }
   ],
   "source": [
    "gdp_dataset.head()"
   ]
  },
  {
   "cell_type": "markdown",
   "metadata": {},
   "source": [
    "#### As we have the GDP for AP and the data is present for 2004 - 2012. We can consider crimes betweem 2004 - 2012 in AP\n",
    "Checking if the years are available and creating a dataset with them"
   ]
  },
  {
   "cell_type": "code",
   "execution_count": 72,
   "metadata": {},
   "outputs": [],
   "source": [
    "crime_dataset_AP = crime_dataset.loc[(crime_dataset['STATE/UT'] == \"ANDHRA PRADESH\")]\n",
    "crime_dataset_AP = crime_dataset_AP[crime_dataset_AP['YEAR'].isin([2004, 2005, 2006, 2007, 2008, 2009, 2010, 2011, 2012])]"
   ]
  },
  {
   "cell_type": "markdown",
   "metadata": {},
   "source": [
    "##### Focusing on 1 district for now. Lets take Hyderabad the capital"
   ]
  },
  {
   "cell_type": "code",
   "execution_count": 123,
   "metadata": {},
   "outputs": [],
   "source": [
    "crime_dataset_hyderabad = crime_dataset_AP.loc[crime_dataset_AP['DISTRICT'] == 'HYDERABAD CITY']"
   ]
  },
  {
   "cell_type": "code",
   "execution_count": 124,
   "metadata": {},
   "outputs": [
    {
     "data": {
      "text/html": [
       "<div>\n",
       "<style scoped>\n",
       "    .dataframe tbody tr th:only-of-type {\n",
       "        vertical-align: middle;\n",
       "    }\n",
       "\n",
       "    .dataframe tbody tr th {\n",
       "        vertical-align: top;\n",
       "    }\n",
       "\n",
       "    .dataframe thead th {\n",
       "        text-align: right;\n",
       "    }\n",
       "</style>\n",
       "<table border=\"1\" class=\"dataframe\">\n",
       "  <thead>\n",
       "    <tr style=\"text-align: right;\">\n",
       "      <th></th>\n",
       "      <th>STATE/UT</th>\n",
       "      <th>DISTRICT</th>\n",
       "      <th>YEAR</th>\n",
       "      <th>MURDER</th>\n",
       "      <th>ATTEMPT TO MURDER</th>\n",
       "      <th>CULPABLE HOMICIDE NOT AMOUNTING TO MURDER</th>\n",
       "      <th>RAPE</th>\n",
       "      <th>CUSTODIAL RAPE</th>\n",
       "      <th>OTHER RAPE</th>\n",
       "      <th>KIDNAPPING &amp; ABDUCTION</th>\n",
       "      <th>...</th>\n",
       "      <th>ARSON</th>\n",
       "      <th>HURT/GREVIOUS HURT</th>\n",
       "      <th>DOWRY DEATHS</th>\n",
       "      <th>ASSAULT ON WOMEN WITH INTENT TO OUTRAGE HER MODESTY</th>\n",
       "      <th>INSULT TO MODESTY OF WOMEN</th>\n",
       "      <th>CRUELTY BY HUSBAND OR HIS RELATIVES</th>\n",
       "      <th>IMPORTATION OF GIRLS FROM FOREIGN COUNTRIES</th>\n",
       "      <th>CAUSING DEATH BY NEGLIGENCE</th>\n",
       "      <th>OTHER IPC CRIMES</th>\n",
       "      <th>TOTAL IPC CRIMES</th>\n",
       "    </tr>\n",
       "  </thead>\n",
       "  <tbody>\n",
       "    <tr>\n",
       "      <th>2171</th>\n",
       "      <td>ANDHRA PRADESH</td>\n",
       "      <td>HYDERABAD CITY</td>\n",
       "      <td>2004</td>\n",
       "      <td>121</td>\n",
       "      <td>135</td>\n",
       "      <td>1</td>\n",
       "      <td>56</td>\n",
       "      <td>0</td>\n",
       "      <td>56</td>\n",
       "      <td>136</td>\n",
       "      <td>...</td>\n",
       "      <td>37</td>\n",
       "      <td>4837</td>\n",
       "      <td>29</td>\n",
       "      <td>144</td>\n",
       "      <td>206</td>\n",
       "      <td>1142</td>\n",
       "      <td>2</td>\n",
       "      <td>482</td>\n",
       "      <td>1932</td>\n",
       "      <td>18868</td>\n",
       "    </tr>\n",
       "    <tr>\n",
       "      <th>2900</th>\n",
       "      <td>ANDHRA PRADESH</td>\n",
       "      <td>HYDERABAD CITY</td>\n",
       "      <td>2005</td>\n",
       "      <td>108</td>\n",
       "      <td>130</td>\n",
       "      <td>4</td>\n",
       "      <td>67</td>\n",
       "      <td>0</td>\n",
       "      <td>67</td>\n",
       "      <td>137</td>\n",
       "      <td>...</td>\n",
       "      <td>40</td>\n",
       "      <td>4227</td>\n",
       "      <td>27</td>\n",
       "      <td>119</td>\n",
       "      <td>348</td>\n",
       "      <td>1309</td>\n",
       "      <td>0</td>\n",
       "      <td>514</td>\n",
       "      <td>1840</td>\n",
       "      <td>17276</td>\n",
       "    </tr>\n",
       "    <tr>\n",
       "      <th>3633</th>\n",
       "      <td>ANDHRA PRADESH</td>\n",
       "      <td>HYDERABAD CITY</td>\n",
       "      <td>2006</td>\n",
       "      <td>125</td>\n",
       "      <td>116</td>\n",
       "      <td>6</td>\n",
       "      <td>93</td>\n",
       "      <td>0</td>\n",
       "      <td>93</td>\n",
       "      <td>143</td>\n",
       "      <td>...</td>\n",
       "      <td>26</td>\n",
       "      <td>4581</td>\n",
       "      <td>29</td>\n",
       "      <td>189</td>\n",
       "      <td>108</td>\n",
       "      <td>1160</td>\n",
       "      <td>0</td>\n",
       "      <td>582</td>\n",
       "      <td>2430</td>\n",
       "      <td>17295</td>\n",
       "    </tr>\n",
       "    <tr>\n",
       "      <th>4373</th>\n",
       "      <td>ANDHRA PRADESH</td>\n",
       "      <td>HYDERABAD CITY</td>\n",
       "      <td>2007</td>\n",
       "      <td>121</td>\n",
       "      <td>147</td>\n",
       "      <td>9</td>\n",
       "      <td>58</td>\n",
       "      <td>0</td>\n",
       "      <td>58</td>\n",
       "      <td>148</td>\n",
       "      <td>...</td>\n",
       "      <td>37</td>\n",
       "      <td>4352</td>\n",
       "      <td>41</td>\n",
       "      <td>216</td>\n",
       "      <td>128</td>\n",
       "      <td>1365</td>\n",
       "      <td>0</td>\n",
       "      <td>502</td>\n",
       "      <td>2624</td>\n",
       "      <td>17391</td>\n",
       "    </tr>\n",
       "    <tr>\n",
       "      <th>5116</th>\n",
       "      <td>ANDHRA PRADESH</td>\n",
       "      <td>HYDERABAD CITY</td>\n",
       "      <td>2008</td>\n",
       "      <td>122</td>\n",
       "      <td>126</td>\n",
       "      <td>5</td>\n",
       "      <td>62</td>\n",
       "      <td>0</td>\n",
       "      <td>62</td>\n",
       "      <td>140</td>\n",
       "      <td>...</td>\n",
       "      <td>44</td>\n",
       "      <td>4244</td>\n",
       "      <td>41</td>\n",
       "      <td>231</td>\n",
       "      <td>148</td>\n",
       "      <td>1184</td>\n",
       "      <td>0</td>\n",
       "      <td>482</td>\n",
       "      <td>3067</td>\n",
       "      <td>18567</td>\n",
       "    </tr>\n",
       "    <tr>\n",
       "      <th>5877</th>\n",
       "      <td>ANDHRA PRADESH</td>\n",
       "      <td>HYDERABAD CITY</td>\n",
       "      <td>2009</td>\n",
       "      <td>153</td>\n",
       "      <td>110</td>\n",
       "      <td>5</td>\n",
       "      <td>47</td>\n",
       "      <td>0</td>\n",
       "      <td>47</td>\n",
       "      <td>108</td>\n",
       "      <td>...</td>\n",
       "      <td>7</td>\n",
       "      <td>3516</td>\n",
       "      <td>36</td>\n",
       "      <td>295</td>\n",
       "      <td>63</td>\n",
       "      <td>1363</td>\n",
       "      <td>0</td>\n",
       "      <td>516</td>\n",
       "      <td>3157</td>\n",
       "      <td>17840</td>\n",
       "    </tr>\n",
       "    <tr>\n",
       "      <th>6645</th>\n",
       "      <td>ANDHRA PRADESH</td>\n",
       "      <td>HYDERABAD CITY</td>\n",
       "      <td>2010</td>\n",
       "      <td>134</td>\n",
       "      <td>143</td>\n",
       "      <td>8</td>\n",
       "      <td>45</td>\n",
       "      <td>0</td>\n",
       "      <td>45</td>\n",
       "      <td>121</td>\n",
       "      <td>...</td>\n",
       "      <td>15</td>\n",
       "      <td>3425</td>\n",
       "      <td>44</td>\n",
       "      <td>171</td>\n",
       "      <td>60</td>\n",
       "      <td>1420</td>\n",
       "      <td>0</td>\n",
       "      <td>542</td>\n",
       "      <td>2879</td>\n",
       "      <td>17549</td>\n",
       "    </tr>\n",
       "    <tr>\n",
       "      <th>7424</th>\n",
       "      <td>ANDHRA PRADESH</td>\n",
       "      <td>HYDERABAD CITY</td>\n",
       "      <td>2011</td>\n",
       "      <td>117</td>\n",
       "      <td>136</td>\n",
       "      <td>6</td>\n",
       "      <td>59</td>\n",
       "      <td>0</td>\n",
       "      <td>59</td>\n",
       "      <td>95</td>\n",
       "      <td>...</td>\n",
       "      <td>50</td>\n",
       "      <td>3334</td>\n",
       "      <td>37</td>\n",
       "      <td>157</td>\n",
       "      <td>93</td>\n",
       "      <td>1355</td>\n",
       "      <td>0</td>\n",
       "      <td>505</td>\n",
       "      <td>2353</td>\n",
       "      <td>15657</td>\n",
       "    </tr>\n",
       "    <tr>\n",
       "      <th>8215</th>\n",
       "      <td>ANDHRA PRADESH</td>\n",
       "      <td>HYDERABAD CITY</td>\n",
       "      <td>2012</td>\n",
       "      <td>102</td>\n",
       "      <td>166</td>\n",
       "      <td>6</td>\n",
       "      <td>74</td>\n",
       "      <td>0</td>\n",
       "      <td>74</td>\n",
       "      <td>88</td>\n",
       "      <td>...</td>\n",
       "      <td>101</td>\n",
       "      <td>3381</td>\n",
       "      <td>23</td>\n",
       "      <td>145</td>\n",
       "      <td>141</td>\n",
       "      <td>1339</td>\n",
       "      <td>0</td>\n",
       "      <td>503</td>\n",
       "      <td>2932</td>\n",
       "      <td>15992</td>\n",
       "    </tr>\n",
       "  </tbody>\n",
       "</table>\n",
       "<p>9 rows × 33 columns</p>\n",
       "</div>"
      ],
      "text/plain": [
       "            STATE/UT        DISTRICT  YEAR  MURDER  ATTEMPT TO MURDER  \\\n",
       "2171  ANDHRA PRADESH  HYDERABAD CITY  2004     121                135   \n",
       "2900  ANDHRA PRADESH  HYDERABAD CITY  2005     108                130   \n",
       "3633  ANDHRA PRADESH  HYDERABAD CITY  2006     125                116   \n",
       "4373  ANDHRA PRADESH  HYDERABAD CITY  2007     121                147   \n",
       "5116  ANDHRA PRADESH  HYDERABAD CITY  2008     122                126   \n",
       "5877  ANDHRA PRADESH  HYDERABAD CITY  2009     153                110   \n",
       "6645  ANDHRA PRADESH  HYDERABAD CITY  2010     134                143   \n",
       "7424  ANDHRA PRADESH  HYDERABAD CITY  2011     117                136   \n",
       "8215  ANDHRA PRADESH  HYDERABAD CITY  2012     102                166   \n",
       "\n",
       "      CULPABLE HOMICIDE NOT AMOUNTING TO MURDER  RAPE  CUSTODIAL RAPE  \\\n",
       "2171                                          1    56               0   \n",
       "2900                                          4    67               0   \n",
       "3633                                          6    93               0   \n",
       "4373                                          9    58               0   \n",
       "5116                                          5    62               0   \n",
       "5877                                          5    47               0   \n",
       "6645                                          8    45               0   \n",
       "7424                                          6    59               0   \n",
       "8215                                          6    74               0   \n",
       "\n",
       "      OTHER RAPE  KIDNAPPING & ABDUCTION  ...  ARSON  HURT/GREVIOUS HURT  \\\n",
       "2171          56                     136  ...     37                4837   \n",
       "2900          67                     137  ...     40                4227   \n",
       "3633          93                     143  ...     26                4581   \n",
       "4373          58                     148  ...     37                4352   \n",
       "5116          62                     140  ...     44                4244   \n",
       "5877          47                     108  ...      7                3516   \n",
       "6645          45                     121  ...     15                3425   \n",
       "7424          59                      95  ...     50                3334   \n",
       "8215          74                      88  ...    101                3381   \n",
       "\n",
       "      DOWRY DEATHS  ASSAULT ON WOMEN WITH INTENT TO OUTRAGE HER MODESTY  \\\n",
       "2171            29                                                144     \n",
       "2900            27                                                119     \n",
       "3633            29                                                189     \n",
       "4373            41                                                216     \n",
       "5116            41                                                231     \n",
       "5877            36                                                295     \n",
       "6645            44                                                171     \n",
       "7424            37                                                157     \n",
       "8215            23                                                145     \n",
       "\n",
       "      INSULT TO MODESTY OF WOMEN  CRUELTY BY HUSBAND OR HIS RELATIVES  \\\n",
       "2171                         206                                 1142   \n",
       "2900                         348                                 1309   \n",
       "3633                         108                                 1160   \n",
       "4373                         128                                 1365   \n",
       "5116                         148                                 1184   \n",
       "5877                          63                                 1363   \n",
       "6645                          60                                 1420   \n",
       "7424                          93                                 1355   \n",
       "8215                         141                                 1339   \n",
       "\n",
       "      IMPORTATION OF GIRLS FROM FOREIGN COUNTRIES  \\\n",
       "2171                                            2   \n",
       "2900                                            0   \n",
       "3633                                            0   \n",
       "4373                                            0   \n",
       "5116                                            0   \n",
       "5877                                            0   \n",
       "6645                                            0   \n",
       "7424                                            0   \n",
       "8215                                            0   \n",
       "\n",
       "      CAUSING DEATH BY NEGLIGENCE  OTHER IPC CRIMES  TOTAL IPC CRIMES  \n",
       "2171                          482              1932             18868  \n",
       "2900                          514              1840             17276  \n",
       "3633                          582              2430             17295  \n",
       "4373                          502              2624             17391  \n",
       "5116                          482              3067             18567  \n",
       "5877                          516              3157             17840  \n",
       "6645                          542              2879             17549  \n",
       "7424                          505              2353             15657  \n",
       "8215                          503              2932             15992  \n",
       "\n",
       "[9 rows x 33 columns]"
      ]
     },
     "execution_count": 124,
     "metadata": {},
     "output_type": "execute_result"
    }
   ],
   "source": [
    "crime_dataset_hyderabad"
   ]
  },
  {
   "cell_type": "markdown",
   "metadata": {},
   "source": [
    "## We have two datasets with GDP and crimes in Hyderabad city\n",
    "Now lets combine the GDP to this crime dataset for Hyderabad city"
   ]
  },
  {
   "cell_type": "code",
   "execution_count": 125,
   "metadata": {},
   "outputs": [
    {
     "name": "stderr",
     "output_type": "stream",
     "text": [
      "C:\\Users\\Kaushik\\AppData\\Local\\Temp/ipykernel_22976/4129952419.py:2: SettingWithCopyWarning:\n",
      "\n",
      "\n",
      "A value is trying to be set on a copy of a slice from a DataFrame.\n",
      "Try using .loc[row_indexer,col_indexer] = value instead\n",
      "\n",
      "See the caveats in the documentation: https://pandas.pydata.org/pandas-docs/stable/user_guide/indexing.html#returning-a-view-versus-a-copy\n",
      "\n"
     ]
    }
   ],
   "source": [
    "hyderabad_gdp = gdp_dataset['Adilabad'].values\n",
    "crime_dataset_hyderabad['GDP'] = hyderabad_gdp"
   ]
  },
  {
   "cell_type": "code",
   "execution_count": 126,
   "metadata": {},
   "outputs": [
    {
     "data": {
      "text/html": [
       "<div>\n",
       "<style scoped>\n",
       "    .dataframe tbody tr th:only-of-type {\n",
       "        vertical-align: middle;\n",
       "    }\n",
       "\n",
       "    .dataframe tbody tr th {\n",
       "        vertical-align: top;\n",
       "    }\n",
       "\n",
       "    .dataframe thead th {\n",
       "        text-align: right;\n",
       "    }\n",
       "</style>\n",
       "<table border=\"1\" class=\"dataframe\">\n",
       "  <thead>\n",
       "    <tr style=\"text-align: right;\">\n",
       "      <th></th>\n",
       "      <th>STATE/UT</th>\n",
       "      <th>DISTRICT</th>\n",
       "      <th>YEAR</th>\n",
       "      <th>MURDER</th>\n",
       "      <th>ATTEMPT TO MURDER</th>\n",
       "      <th>CULPABLE HOMICIDE NOT AMOUNTING TO MURDER</th>\n",
       "      <th>RAPE</th>\n",
       "      <th>CUSTODIAL RAPE</th>\n",
       "      <th>OTHER RAPE</th>\n",
       "      <th>KIDNAPPING &amp; ABDUCTION</th>\n",
       "      <th>...</th>\n",
       "      <th>HURT/GREVIOUS HURT</th>\n",
       "      <th>DOWRY DEATHS</th>\n",
       "      <th>ASSAULT ON WOMEN WITH INTENT TO OUTRAGE HER MODESTY</th>\n",
       "      <th>INSULT TO MODESTY OF WOMEN</th>\n",
       "      <th>CRUELTY BY HUSBAND OR HIS RELATIVES</th>\n",
       "      <th>IMPORTATION OF GIRLS FROM FOREIGN COUNTRIES</th>\n",
       "      <th>CAUSING DEATH BY NEGLIGENCE</th>\n",
       "      <th>OTHER IPC CRIMES</th>\n",
       "      <th>TOTAL IPC CRIMES</th>\n",
       "      <th>GDP</th>\n",
       "    </tr>\n",
       "  </thead>\n",
       "  <tbody>\n",
       "    <tr>\n",
       "      <th>2171</th>\n",
       "      <td>ANDHRA PRADESH</td>\n",
       "      <td>HYDERABAD CITY</td>\n",
       "      <td>2004</td>\n",
       "      <td>121</td>\n",
       "      <td>135</td>\n",
       "      <td>1</td>\n",
       "      <td>56</td>\n",
       "      <td>0</td>\n",
       "      <td>56</td>\n",
       "      <td>136</td>\n",
       "      <td>...</td>\n",
       "      <td>4837</td>\n",
       "      <td>29</td>\n",
       "      <td>144</td>\n",
       "      <td>206</td>\n",
       "      <td>1142</td>\n",
       "      <td>2</td>\n",
       "      <td>482</td>\n",
       "      <td>1932</td>\n",
       "      <td>18868</td>\n",
       "      <td>6527.41</td>\n",
       "    </tr>\n",
       "    <tr>\n",
       "      <th>2900</th>\n",
       "      <td>ANDHRA PRADESH</td>\n",
       "      <td>HYDERABAD CITY</td>\n",
       "      <td>2005</td>\n",
       "      <td>108</td>\n",
       "      <td>130</td>\n",
       "      <td>4</td>\n",
       "      <td>67</td>\n",
       "      <td>0</td>\n",
       "      <td>67</td>\n",
       "      <td>137</td>\n",
       "      <td>...</td>\n",
       "      <td>4227</td>\n",
       "      <td>27</td>\n",
       "      <td>119</td>\n",
       "      <td>348</td>\n",
       "      <td>1309</td>\n",
       "      <td>0</td>\n",
       "      <td>514</td>\n",
       "      <td>1840</td>\n",
       "      <td>17276</td>\n",
       "      <td>7058.60</td>\n",
       "    </tr>\n",
       "    <tr>\n",
       "      <th>3633</th>\n",
       "      <td>ANDHRA PRADESH</td>\n",
       "      <td>HYDERABAD CITY</td>\n",
       "      <td>2006</td>\n",
       "      <td>125</td>\n",
       "      <td>116</td>\n",
       "      <td>6</td>\n",
       "      <td>93</td>\n",
       "      <td>0</td>\n",
       "      <td>93</td>\n",
       "      <td>143</td>\n",
       "      <td>...</td>\n",
       "      <td>4581</td>\n",
       "      <td>29</td>\n",
       "      <td>189</td>\n",
       "      <td>108</td>\n",
       "      <td>1160</td>\n",
       "      <td>0</td>\n",
       "      <td>582</td>\n",
       "      <td>2430</td>\n",
       "      <td>17295</td>\n",
       "      <td>8300.56</td>\n",
       "    </tr>\n",
       "    <tr>\n",
       "      <th>4373</th>\n",
       "      <td>ANDHRA PRADESH</td>\n",
       "      <td>HYDERABAD CITY</td>\n",
       "      <td>2007</td>\n",
       "      <td>121</td>\n",
       "      <td>147</td>\n",
       "      <td>9</td>\n",
       "      <td>58</td>\n",
       "      <td>0</td>\n",
       "      <td>58</td>\n",
       "      <td>148</td>\n",
       "      <td>...</td>\n",
       "      <td>4352</td>\n",
       "      <td>41</td>\n",
       "      <td>216</td>\n",
       "      <td>128</td>\n",
       "      <td>1365</td>\n",
       "      <td>0</td>\n",
       "      <td>502</td>\n",
       "      <td>2624</td>\n",
       "      <td>17391</td>\n",
       "      <td>9860.16</td>\n",
       "    </tr>\n",
       "    <tr>\n",
       "      <th>5116</th>\n",
       "      <td>ANDHRA PRADESH</td>\n",
       "      <td>HYDERABAD CITY</td>\n",
       "      <td>2008</td>\n",
       "      <td>122</td>\n",
       "      <td>126</td>\n",
       "      <td>5</td>\n",
       "      <td>62</td>\n",
       "      <td>0</td>\n",
       "      <td>62</td>\n",
       "      <td>140</td>\n",
       "      <td>...</td>\n",
       "      <td>4244</td>\n",
       "      <td>41</td>\n",
       "      <td>231</td>\n",
       "      <td>148</td>\n",
       "      <td>1184</td>\n",
       "      <td>0</td>\n",
       "      <td>482</td>\n",
       "      <td>3067</td>\n",
       "      <td>18567</td>\n",
       "      <td>12342.93</td>\n",
       "    </tr>\n",
       "    <tr>\n",
       "      <th>5877</th>\n",
       "      <td>ANDHRA PRADESH</td>\n",
       "      <td>HYDERABAD CITY</td>\n",
       "      <td>2009</td>\n",
       "      <td>153</td>\n",
       "      <td>110</td>\n",
       "      <td>5</td>\n",
       "      <td>47</td>\n",
       "      <td>0</td>\n",
       "      <td>47</td>\n",
       "      <td>108</td>\n",
       "      <td>...</td>\n",
       "      <td>3516</td>\n",
       "      <td>36</td>\n",
       "      <td>295</td>\n",
       "      <td>63</td>\n",
       "      <td>1363</td>\n",
       "      <td>0</td>\n",
       "      <td>516</td>\n",
       "      <td>3157</td>\n",
       "      <td>17840</td>\n",
       "      <td>13291.00</td>\n",
       "    </tr>\n",
       "    <tr>\n",
       "      <th>6645</th>\n",
       "      <td>ANDHRA PRADESH</td>\n",
       "      <td>HYDERABAD CITY</td>\n",
       "      <td>2010</td>\n",
       "      <td>134</td>\n",
       "      <td>143</td>\n",
       "      <td>8</td>\n",
       "      <td>45</td>\n",
       "      <td>0</td>\n",
       "      <td>45</td>\n",
       "      <td>121</td>\n",
       "      <td>...</td>\n",
       "      <td>3425</td>\n",
       "      <td>44</td>\n",
       "      <td>171</td>\n",
       "      <td>60</td>\n",
       "      <td>1420</td>\n",
       "      <td>0</td>\n",
       "      <td>542</td>\n",
       "      <td>2879</td>\n",
       "      <td>17549</td>\n",
       "      <td>16508.00</td>\n",
       "    </tr>\n",
       "    <tr>\n",
       "      <th>7424</th>\n",
       "      <td>ANDHRA PRADESH</td>\n",
       "      <td>HYDERABAD CITY</td>\n",
       "      <td>2011</td>\n",
       "      <td>117</td>\n",
       "      <td>136</td>\n",
       "      <td>6</td>\n",
       "      <td>59</td>\n",
       "      <td>0</td>\n",
       "      <td>59</td>\n",
       "      <td>95</td>\n",
       "      <td>...</td>\n",
       "      <td>3334</td>\n",
       "      <td>37</td>\n",
       "      <td>157</td>\n",
       "      <td>93</td>\n",
       "      <td>1355</td>\n",
       "      <td>0</td>\n",
       "      <td>505</td>\n",
       "      <td>2353</td>\n",
       "      <td>15657</td>\n",
       "      <td>17330.00</td>\n",
       "    </tr>\n",
       "    <tr>\n",
       "      <th>8215</th>\n",
       "      <td>ANDHRA PRADESH</td>\n",
       "      <td>HYDERABAD CITY</td>\n",
       "      <td>2012</td>\n",
       "      <td>102</td>\n",
       "      <td>166</td>\n",
       "      <td>6</td>\n",
       "      <td>74</td>\n",
       "      <td>0</td>\n",
       "      <td>74</td>\n",
       "      <td>88</td>\n",
       "      <td>...</td>\n",
       "      <td>3381</td>\n",
       "      <td>23</td>\n",
       "      <td>145</td>\n",
       "      <td>141</td>\n",
       "      <td>1339</td>\n",
       "      <td>0</td>\n",
       "      <td>503</td>\n",
       "      <td>2932</td>\n",
       "      <td>15992</td>\n",
       "      <td>19641.00</td>\n",
       "    </tr>\n",
       "  </tbody>\n",
       "</table>\n",
       "<p>9 rows × 34 columns</p>\n",
       "</div>"
      ],
      "text/plain": [
       "            STATE/UT        DISTRICT  YEAR  MURDER  ATTEMPT TO MURDER  \\\n",
       "2171  ANDHRA PRADESH  HYDERABAD CITY  2004     121                135   \n",
       "2900  ANDHRA PRADESH  HYDERABAD CITY  2005     108                130   \n",
       "3633  ANDHRA PRADESH  HYDERABAD CITY  2006     125                116   \n",
       "4373  ANDHRA PRADESH  HYDERABAD CITY  2007     121                147   \n",
       "5116  ANDHRA PRADESH  HYDERABAD CITY  2008     122                126   \n",
       "5877  ANDHRA PRADESH  HYDERABAD CITY  2009     153                110   \n",
       "6645  ANDHRA PRADESH  HYDERABAD CITY  2010     134                143   \n",
       "7424  ANDHRA PRADESH  HYDERABAD CITY  2011     117                136   \n",
       "8215  ANDHRA PRADESH  HYDERABAD CITY  2012     102                166   \n",
       "\n",
       "      CULPABLE HOMICIDE NOT AMOUNTING TO MURDER  RAPE  CUSTODIAL RAPE  \\\n",
       "2171                                          1    56               0   \n",
       "2900                                          4    67               0   \n",
       "3633                                          6    93               0   \n",
       "4373                                          9    58               0   \n",
       "5116                                          5    62               0   \n",
       "5877                                          5    47               0   \n",
       "6645                                          8    45               0   \n",
       "7424                                          6    59               0   \n",
       "8215                                          6    74               0   \n",
       "\n",
       "      OTHER RAPE  KIDNAPPING & ABDUCTION  ...  HURT/GREVIOUS HURT  \\\n",
       "2171          56                     136  ...                4837   \n",
       "2900          67                     137  ...                4227   \n",
       "3633          93                     143  ...                4581   \n",
       "4373          58                     148  ...                4352   \n",
       "5116          62                     140  ...                4244   \n",
       "5877          47                     108  ...                3516   \n",
       "6645          45                     121  ...                3425   \n",
       "7424          59                      95  ...                3334   \n",
       "8215          74                      88  ...                3381   \n",
       "\n",
       "      DOWRY DEATHS  ASSAULT ON WOMEN WITH INTENT TO OUTRAGE HER MODESTY  \\\n",
       "2171            29                                                144     \n",
       "2900            27                                                119     \n",
       "3633            29                                                189     \n",
       "4373            41                                                216     \n",
       "5116            41                                                231     \n",
       "5877            36                                                295     \n",
       "6645            44                                                171     \n",
       "7424            37                                                157     \n",
       "8215            23                                                145     \n",
       "\n",
       "      INSULT TO MODESTY OF WOMEN  CRUELTY BY HUSBAND OR HIS RELATIVES  \\\n",
       "2171                         206                                 1142   \n",
       "2900                         348                                 1309   \n",
       "3633                         108                                 1160   \n",
       "4373                         128                                 1365   \n",
       "5116                         148                                 1184   \n",
       "5877                          63                                 1363   \n",
       "6645                          60                                 1420   \n",
       "7424                          93                                 1355   \n",
       "8215                         141                                 1339   \n",
       "\n",
       "      IMPORTATION OF GIRLS FROM FOREIGN COUNTRIES  \\\n",
       "2171                                            2   \n",
       "2900                                            0   \n",
       "3633                                            0   \n",
       "4373                                            0   \n",
       "5116                                            0   \n",
       "5877                                            0   \n",
       "6645                                            0   \n",
       "7424                                            0   \n",
       "8215                                            0   \n",
       "\n",
       "      CAUSING DEATH BY NEGLIGENCE  OTHER IPC CRIMES  TOTAL IPC CRIMES  \\\n",
       "2171                          482              1932             18868   \n",
       "2900                          514              1840             17276   \n",
       "3633                          582              2430             17295   \n",
       "4373                          502              2624             17391   \n",
       "5116                          482              3067             18567   \n",
       "5877                          516              3157             17840   \n",
       "6645                          542              2879             17549   \n",
       "7424                          505              2353             15657   \n",
       "8215                          503              2932             15992   \n",
       "\n",
       "           GDP  \n",
       "2171   6527.41  \n",
       "2900   7058.60  \n",
       "3633   8300.56  \n",
       "4373   9860.16  \n",
       "5116  12342.93  \n",
       "5877  13291.00  \n",
       "6645  16508.00  \n",
       "7424  17330.00  \n",
       "8215  19641.00  \n",
       "\n",
       "[9 rows x 34 columns]"
      ]
     },
     "execution_count": 126,
     "metadata": {},
     "output_type": "execute_result"
    }
   ],
   "source": [
    "crime_dataset_hyderabad"
   ]
  },
  {
   "cell_type": "code",
   "execution_count": 127,
   "metadata": {},
   "outputs": [
    {
     "data": {
      "application/vnd.plotly.v1+json": {
       "config": {
        "plotlyServerURL": "https://plot.ly"
       },
       "data": [
        {
         "hovertemplate": "variable=MURDER<br>YEAR=%{x}<br>value=%{y}<extra></extra>",
         "legendgroup": "MURDER",
         "line": {
          "color": "#636efa",
          "dash": "solid"
         },
         "marker": {
          "symbol": "circle"
         },
         "mode": "lines",
         "name": "MURDER",
         "orientation": "v",
         "showlegend": true,
         "type": "scatter",
         "x": [
          2004,
          2005,
          2006,
          2007,
          2008,
          2009,
          2010,
          2011,
          2012
         ],
         "xaxis": "x",
         "y": [
          121,
          108,
          125,
          121,
          122,
          153,
          134,
          117,
          102
         ],
         "yaxis": "y"
        },
        {
         "hovertemplate": "variable=ATTEMPT TO MURDER<br>YEAR=%{x}<br>value=%{y}<extra></extra>",
         "legendgroup": "ATTEMPT TO MURDER",
         "line": {
          "color": "#EF553B",
          "dash": "solid"
         },
         "marker": {
          "symbol": "circle"
         },
         "mode": "lines",
         "name": "ATTEMPT TO MURDER",
         "orientation": "v",
         "showlegend": true,
         "type": "scatter",
         "x": [
          2004,
          2005,
          2006,
          2007,
          2008,
          2009,
          2010,
          2011,
          2012
         ],
         "xaxis": "x",
         "y": [
          135,
          130,
          116,
          147,
          126,
          110,
          143,
          136,
          166
         ],
         "yaxis": "y"
        },
        {
         "hovertemplate": "variable=CULPABLE HOMICIDE NOT AMOUNTING TO MURDER<br>YEAR=%{x}<br>value=%{y}<extra></extra>",
         "legendgroup": "CULPABLE HOMICIDE NOT AMOUNTING TO MURDER",
         "line": {
          "color": "#00cc96",
          "dash": "solid"
         },
         "marker": {
          "symbol": "circle"
         },
         "mode": "lines",
         "name": "CULPABLE HOMICIDE NOT AMOUNTING TO MURDER",
         "orientation": "v",
         "showlegend": true,
         "type": "scatter",
         "x": [
          2004,
          2005,
          2006,
          2007,
          2008,
          2009,
          2010,
          2011,
          2012
         ],
         "xaxis": "x",
         "y": [
          1,
          4,
          6,
          9,
          5,
          5,
          8,
          6,
          6
         ],
         "yaxis": "y"
        },
        {
         "hovertemplate": "variable=RAPE<br>YEAR=%{x}<br>value=%{y}<extra></extra>",
         "legendgroup": "RAPE",
         "line": {
          "color": "#ab63fa",
          "dash": "solid"
         },
         "marker": {
          "symbol": "circle"
         },
         "mode": "lines",
         "name": "RAPE",
         "orientation": "v",
         "showlegend": true,
         "type": "scatter",
         "x": [
          2004,
          2005,
          2006,
          2007,
          2008,
          2009,
          2010,
          2011,
          2012
         ],
         "xaxis": "x",
         "y": [
          56,
          67,
          93,
          58,
          62,
          47,
          45,
          59,
          74
         ],
         "yaxis": "y"
        },
        {
         "hovertemplate": "variable=CUSTODIAL RAPE<br>YEAR=%{x}<br>value=%{y}<extra></extra>",
         "legendgroup": "CUSTODIAL RAPE",
         "line": {
          "color": "#FFA15A",
          "dash": "solid"
         },
         "marker": {
          "symbol": "circle"
         },
         "mode": "lines",
         "name": "CUSTODIAL RAPE",
         "orientation": "v",
         "showlegend": true,
         "type": "scatter",
         "x": [
          2004,
          2005,
          2006,
          2007,
          2008,
          2009,
          2010,
          2011,
          2012
         ],
         "xaxis": "x",
         "y": [
          0,
          0,
          0,
          0,
          0,
          0,
          0,
          0,
          0
         ],
         "yaxis": "y"
        },
        {
         "hovertemplate": "variable=OTHER RAPE<br>YEAR=%{x}<br>value=%{y}<extra></extra>",
         "legendgroup": "OTHER RAPE",
         "line": {
          "color": "#19d3f3",
          "dash": "solid"
         },
         "marker": {
          "symbol": "circle"
         },
         "mode": "lines",
         "name": "OTHER RAPE",
         "orientation": "v",
         "showlegend": true,
         "type": "scatter",
         "x": [
          2004,
          2005,
          2006,
          2007,
          2008,
          2009,
          2010,
          2011,
          2012
         ],
         "xaxis": "x",
         "y": [
          56,
          67,
          93,
          58,
          62,
          47,
          45,
          59,
          74
         ],
         "yaxis": "y"
        },
        {
         "hovertemplate": "variable=KIDNAPPING & ABDUCTION<br>YEAR=%{x}<br>value=%{y}<extra></extra>",
         "legendgroup": "KIDNAPPING & ABDUCTION",
         "line": {
          "color": "#FF6692",
          "dash": "solid"
         },
         "marker": {
          "symbol": "circle"
         },
         "mode": "lines",
         "name": "KIDNAPPING & ABDUCTION",
         "orientation": "v",
         "showlegend": true,
         "type": "scatter",
         "x": [
          2004,
          2005,
          2006,
          2007,
          2008,
          2009,
          2010,
          2011,
          2012
         ],
         "xaxis": "x",
         "y": [
          136,
          137,
          143,
          148,
          140,
          108,
          121,
          95,
          88
         ],
         "yaxis": "y"
        },
        {
         "hovertemplate": "variable=KIDNAPPING AND ABDUCTION OF WOMEN AND GIRLS<br>YEAR=%{x}<br>value=%{y}<extra></extra>",
         "legendgroup": "KIDNAPPING AND ABDUCTION OF WOMEN AND GIRLS",
         "line": {
          "color": "#B6E880",
          "dash": "solid"
         },
         "marker": {
          "symbol": "circle"
         },
         "mode": "lines",
         "name": "KIDNAPPING AND ABDUCTION OF WOMEN AND GIRLS",
         "orientation": "v",
         "showlegend": true,
         "type": "scatter",
         "x": [
          2004,
          2005,
          2006,
          2007,
          2008,
          2009,
          2010,
          2011,
          2012
         ],
         "xaxis": "x",
         "y": [
          62,
          70,
          77,
          74,
          77,
          55,
          41,
          39,
          31
         ],
         "yaxis": "y"
        },
        {
         "hovertemplate": "variable=KIDNAPPING AND ABDUCTION OF OTHERS<br>YEAR=%{x}<br>value=%{y}<extra></extra>",
         "legendgroup": "KIDNAPPING AND ABDUCTION OF OTHERS",
         "line": {
          "color": "#FF97FF",
          "dash": "solid"
         },
         "marker": {
          "symbol": "circle"
         },
         "mode": "lines",
         "name": "KIDNAPPING AND ABDUCTION OF OTHERS",
         "orientation": "v",
         "showlegend": true,
         "type": "scatter",
         "x": [
          2004,
          2005,
          2006,
          2007,
          2008,
          2009,
          2010,
          2011,
          2012
         ],
         "xaxis": "x",
         "y": [
          74,
          67,
          66,
          74,
          63,
          53,
          80,
          56,
          57
         ],
         "yaxis": "y"
        },
        {
         "hovertemplate": "variable=DACOITY<br>YEAR=%{x}<br>value=%{y}<extra></extra>",
         "legendgroup": "DACOITY",
         "line": {
          "color": "#FECB52",
          "dash": "solid"
         },
         "marker": {
          "symbol": "circle"
         },
         "mode": "lines",
         "name": "DACOITY",
         "orientation": "v",
         "showlegend": true,
         "type": "scatter",
         "x": [
          2004,
          2005,
          2006,
          2007,
          2008,
          2009,
          2010,
          2011,
          2012
         ],
         "xaxis": "x",
         "y": [
          11,
          8,
          12,
          6,
          10,
          5,
          7,
          8,
          12
         ],
         "yaxis": "y"
        },
        {
         "hovertemplate": "variable=PREPARATION AND ASSEMBLY FOR DACOITY<br>YEAR=%{x}<br>value=%{y}<extra></extra>",
         "legendgroup": "PREPARATION AND ASSEMBLY FOR DACOITY",
         "line": {
          "color": "#636efa",
          "dash": "solid"
         },
         "marker": {
          "symbol": "circle"
         },
         "mode": "lines",
         "name": "PREPARATION AND ASSEMBLY FOR DACOITY",
         "orientation": "v",
         "showlegend": true,
         "type": "scatter",
         "x": [
          2004,
          2005,
          2006,
          2007,
          2008,
          2009,
          2010,
          2011,
          2012
         ],
         "xaxis": "x",
         "y": [
          2,
          3,
          0,
          0,
          0,
          0,
          0,
          0,
          0
         ],
         "yaxis": "y"
        },
        {
         "hovertemplate": "variable=ROBBERY<br>YEAR=%{x}<br>value=%{y}<extra></extra>",
         "legendgroup": "ROBBERY",
         "line": {
          "color": "#EF553B",
          "dash": "solid"
         },
         "marker": {
          "symbol": "circle"
         },
         "mode": "lines",
         "name": "ROBBERY",
         "orientation": "v",
         "showlegend": true,
         "type": "scatter",
         "x": [
          2004,
          2005,
          2006,
          2007,
          2008,
          2009,
          2010,
          2011,
          2012
         ],
         "xaxis": "x",
         "y": [
          71,
          125,
          99,
          96,
          115,
          59,
          54,
          40,
          57
         ],
         "yaxis": "y"
        },
        {
         "hovertemplate": "variable=BURGLARY<br>YEAR=%{x}<br>value=%{y}<extra></extra>",
         "legendgroup": "BURGLARY",
         "line": {
          "color": "#00cc96",
          "dash": "solid"
         },
         "marker": {
          "symbol": "circle"
         },
         "mode": "lines",
         "name": "BURGLARY",
         "orientation": "v",
         "showlegend": true,
         "type": "scatter",
         "x": [
          2004,
          2005,
          2006,
          2007,
          2008,
          2009,
          2010,
          2011,
          2012
         ],
         "xaxis": "x",
         "y": [
          1359,
          1161,
          1186,
          993,
          1143,
          969,
          906,
          693,
          647
         ],
         "yaxis": "y"
        },
        {
         "hovertemplate": "variable=THEFT<br>YEAR=%{x}<br>value=%{y}<extra></extra>",
         "legendgroup": "THEFT",
         "line": {
          "color": "#ab63fa",
          "dash": "solid"
         },
         "marker": {
          "symbol": "circle"
         },
         "mode": "lines",
         "name": "THEFT",
         "orientation": "v",
         "showlegend": true,
         "type": "scatter",
         "x": [
          2004,
          2005,
          2006,
          2007,
          2008,
          2009,
          2010,
          2011,
          2012
         ],
         "xaxis": "x",
         "y": [
          5735,
          5022,
          4408,
          4542,
          5200,
          5091,
          4916,
          4416,
          3694
         ],
         "yaxis": "y"
        },
        {
         "hovertemplate": "variable=AUTO THEFT<br>YEAR=%{x}<br>value=%{y}<extra></extra>",
         "legendgroup": "AUTO THEFT",
         "line": {
          "color": "#FFA15A",
          "dash": "solid"
         },
         "marker": {
          "symbol": "circle"
         },
         "mode": "lines",
         "name": "AUTO THEFT",
         "orientation": "v",
         "showlegend": true,
         "type": "scatter",
         "x": [
          2004,
          2005,
          2006,
          2007,
          2008,
          2009,
          2010,
          2011,
          2012
         ],
         "xaxis": "x",
         "y": [
          2078,
          2012,
          1691,
          1685,
          2106,
          2095,
          1543,
          1823,
          1370
         ],
         "yaxis": "y"
        },
        {
         "hovertemplate": "variable=OTHER THEFT<br>YEAR=%{x}<br>value=%{y}<extra></extra>",
         "legendgroup": "OTHER THEFT",
         "line": {
          "color": "#19d3f3",
          "dash": "solid"
         },
         "marker": {
          "symbol": "circle"
         },
         "mode": "lines",
         "name": "OTHER THEFT",
         "orientation": "v",
         "showlegend": true,
         "type": "scatter",
         "x": [
          2004,
          2005,
          2006,
          2007,
          2008,
          2009,
          2010,
          2011,
          2012
         ],
         "xaxis": "x",
         "y": [
          3657,
          3010,
          2717,
          2857,
          3094,
          2996,
          3373,
          2593,
          2324
         ],
         "yaxis": "y"
        },
        {
         "hovertemplate": "variable=RIOTS<br>YEAR=%{x}<br>value=%{y}<extra></extra>",
         "legendgroup": "RIOTS",
         "line": {
          "color": "#FF6692",
          "dash": "solid"
         },
         "marker": {
          "symbol": "circle"
         },
         "mode": "lines",
         "name": "RIOTS",
         "orientation": "v",
         "showlegend": true,
         "type": "scatter",
         "x": [
          2004,
          2005,
          2006,
          2007,
          2008,
          2009,
          2010,
          2011,
          2012
         ],
         "xaxis": "x",
         "y": [
          141,
          96,
          128,
          214,
          143,
          199,
          513,
          220,
          354
         ],
         "yaxis": "y"
        },
        {
         "hovertemplate": "variable=CRIMINAL BREACH OF TRUST<br>YEAR=%{x}<br>value=%{y}<extra></extra>",
         "legendgroup": "CRIMINAL BREACH OF TRUST",
         "line": {
          "color": "#B6E880",
          "dash": "solid"
         },
         "marker": {
          "symbol": "circle"
         },
         "mode": "lines",
         "name": "CRIMINAL BREACH OF TRUST",
         "orientation": "v",
         "showlegend": true,
         "type": "scatter",
         "x": [
          2004,
          2005,
          2006,
          2007,
          2008,
          2009,
          2010,
          2011,
          2012
         ],
         "xaxis": "x",
         "y": [
          110,
          94,
          84,
          116,
          143,
          85,
          96,
          75,
          71
         ],
         "yaxis": "y"
        },
        {
         "hovertemplate": "variable=CHEATING<br>YEAR=%{x}<br>value=%{y}<extra></extra>",
         "legendgroup": "CHEATING",
         "line": {
          "color": "#FF97FF",
          "dash": "solid"
         },
         "marker": {
          "symbol": "circle"
         },
         "mode": "lines",
         "name": "CHEATING",
         "orientation": "v",
         "showlegend": true,
         "type": "scatter",
         "x": [
          2004,
          2005,
          2006,
          2007,
          2008,
          2009,
          2010,
          2011,
          2012
         ],
         "xaxis": "x",
         "y": [
          2160,
          1880,
          1777,
          1669,
          1875,
          2007,
          2021,
          1864,
          2131
         ],
         "yaxis": "y"
        },
        {
         "hovertemplate": "variable=COUNTERFIETING<br>YEAR=%{x}<br>value=%{y}<extra></extra>",
         "legendgroup": "COUNTERFIETING",
         "line": {
          "color": "#FECB52",
          "dash": "solid"
         },
         "marker": {
          "symbol": "circle"
         },
         "mode": "lines",
         "name": "COUNTERFIETING",
         "orientation": "v",
         "showlegend": true,
         "type": "scatter",
         "x": [
          2004,
          2005,
          2006,
          2007,
          2008,
          2009,
          2010,
          2011,
          2012
         ],
         "xaxis": "x",
         "y": [
          19,
          17,
          13,
          7,
          42,
          49,
          29,
          44,
          25
         ],
         "yaxis": "y"
        },
        {
         "hovertemplate": "variable=ARSON<br>YEAR=%{x}<br>value=%{y}<extra></extra>",
         "legendgroup": "ARSON",
         "line": {
          "color": "#636efa",
          "dash": "solid"
         },
         "marker": {
          "symbol": "circle"
         },
         "mode": "lines",
         "name": "ARSON",
         "orientation": "v",
         "showlegend": true,
         "type": "scatter",
         "x": [
          2004,
          2005,
          2006,
          2007,
          2008,
          2009,
          2010,
          2011,
          2012
         ],
         "xaxis": "x",
         "y": [
          37,
          40,
          26,
          37,
          44,
          7,
          15,
          50,
          101
         ],
         "yaxis": "y"
        },
        {
         "hovertemplate": "variable=HURT/GREVIOUS HURT<br>YEAR=%{x}<br>value=%{y}<extra></extra>",
         "legendgroup": "HURT/GREVIOUS HURT",
         "line": {
          "color": "#EF553B",
          "dash": "solid"
         },
         "marker": {
          "symbol": "circle"
         },
         "mode": "lines",
         "name": "HURT/GREVIOUS HURT",
         "orientation": "v",
         "showlegend": true,
         "type": "scatter",
         "x": [
          2004,
          2005,
          2006,
          2007,
          2008,
          2009,
          2010,
          2011,
          2012
         ],
         "xaxis": "x",
         "y": [
          4837,
          4227,
          4581,
          4352,
          4244,
          3516,
          3425,
          3334,
          3381
         ],
         "yaxis": "y"
        },
        {
         "hovertemplate": "variable=DOWRY DEATHS<br>YEAR=%{x}<br>value=%{y}<extra></extra>",
         "legendgroup": "DOWRY DEATHS",
         "line": {
          "color": "#00cc96",
          "dash": "solid"
         },
         "marker": {
          "symbol": "circle"
         },
         "mode": "lines",
         "name": "DOWRY DEATHS",
         "orientation": "v",
         "showlegend": true,
         "type": "scatter",
         "x": [
          2004,
          2005,
          2006,
          2007,
          2008,
          2009,
          2010,
          2011,
          2012
         ],
         "xaxis": "x",
         "y": [
          29,
          27,
          29,
          41,
          41,
          36,
          44,
          37,
          23
         ],
         "yaxis": "y"
        },
        {
         "hovertemplate": "variable=ASSAULT ON WOMEN WITH INTENT TO OUTRAGE HER MODESTY<br>YEAR=%{x}<br>value=%{y}<extra></extra>",
         "legendgroup": "ASSAULT ON WOMEN WITH INTENT TO OUTRAGE HER MODESTY",
         "line": {
          "color": "#ab63fa",
          "dash": "solid"
         },
         "marker": {
          "symbol": "circle"
         },
         "mode": "lines",
         "name": "ASSAULT ON WOMEN WITH INTENT TO OUTRAGE HER MODESTY",
         "orientation": "v",
         "showlegend": true,
         "type": "scatter",
         "x": [
          2004,
          2005,
          2006,
          2007,
          2008,
          2009,
          2010,
          2011,
          2012
         ],
         "xaxis": "x",
         "y": [
          144,
          119,
          189,
          216,
          231,
          295,
          171,
          157,
          145
         ],
         "yaxis": "y"
        },
        {
         "hovertemplate": "variable=INSULT TO MODESTY OF WOMEN<br>YEAR=%{x}<br>value=%{y}<extra></extra>",
         "legendgroup": "INSULT TO MODESTY OF WOMEN",
         "line": {
          "color": "#FFA15A",
          "dash": "solid"
         },
         "marker": {
          "symbol": "circle"
         },
         "mode": "lines",
         "name": "INSULT TO MODESTY OF WOMEN",
         "orientation": "v",
         "showlegend": true,
         "type": "scatter",
         "x": [
          2004,
          2005,
          2006,
          2007,
          2008,
          2009,
          2010,
          2011,
          2012
         ],
         "xaxis": "x",
         "y": [
          206,
          348,
          108,
          128,
          148,
          63,
          60,
          93,
          141
         ],
         "yaxis": "y"
        },
        {
         "hovertemplate": "variable=CRUELTY BY HUSBAND OR HIS RELATIVES<br>YEAR=%{x}<br>value=%{y}<extra></extra>",
         "legendgroup": "CRUELTY BY HUSBAND OR HIS RELATIVES",
         "line": {
          "color": "#19d3f3",
          "dash": "solid"
         },
         "marker": {
          "symbol": "circle"
         },
         "mode": "lines",
         "name": "CRUELTY BY HUSBAND OR HIS RELATIVES",
         "orientation": "v",
         "showlegend": true,
         "type": "scatter",
         "x": [
          2004,
          2005,
          2006,
          2007,
          2008,
          2009,
          2010,
          2011,
          2012
         ],
         "xaxis": "x",
         "y": [
          1142,
          1309,
          1160,
          1365,
          1184,
          1363,
          1420,
          1355,
          1339
         ],
         "yaxis": "y"
        },
        {
         "hovertemplate": "variable=IMPORTATION OF GIRLS FROM FOREIGN COUNTRIES<br>YEAR=%{x}<br>value=%{y}<extra></extra>",
         "legendgroup": "IMPORTATION OF GIRLS FROM FOREIGN COUNTRIES",
         "line": {
          "color": "#FF6692",
          "dash": "solid"
         },
         "marker": {
          "symbol": "circle"
         },
         "mode": "lines",
         "name": "IMPORTATION OF GIRLS FROM FOREIGN COUNTRIES",
         "orientation": "v",
         "showlegend": true,
         "type": "scatter",
         "x": [
          2004,
          2005,
          2006,
          2007,
          2008,
          2009,
          2010,
          2011,
          2012
         ],
         "xaxis": "x",
         "y": [
          2,
          0,
          0,
          0,
          0,
          0,
          0,
          0,
          0
         ],
         "yaxis": "y"
        },
        {
         "hovertemplate": "variable=CAUSING DEATH BY NEGLIGENCE<br>YEAR=%{x}<br>value=%{y}<extra></extra>",
         "legendgroup": "CAUSING DEATH BY NEGLIGENCE",
         "line": {
          "color": "#B6E880",
          "dash": "solid"
         },
         "marker": {
          "symbol": "circle"
         },
         "mode": "lines",
         "name": "CAUSING DEATH BY NEGLIGENCE",
         "orientation": "v",
         "showlegend": true,
         "type": "scatter",
         "x": [
          2004,
          2005,
          2006,
          2007,
          2008,
          2009,
          2010,
          2011,
          2012
         ],
         "xaxis": "x",
         "y": [
          482,
          514,
          582,
          502,
          482,
          516,
          542,
          505,
          503
         ],
         "yaxis": "y"
        },
        {
         "hovertemplate": "variable=OTHER IPC CRIMES<br>YEAR=%{x}<br>value=%{y}<extra></extra>",
         "legendgroup": "OTHER IPC CRIMES",
         "line": {
          "color": "#FF97FF",
          "dash": "solid"
         },
         "marker": {
          "symbol": "circle"
         },
         "mode": "lines",
         "name": "OTHER IPC CRIMES",
         "orientation": "v",
         "showlegend": true,
         "type": "scatter",
         "x": [
          2004,
          2005,
          2006,
          2007,
          2008,
          2009,
          2010,
          2011,
          2012
         ],
         "xaxis": "x",
         "y": [
          1932,
          1840,
          2430,
          2624,
          3067,
          3157,
          2879,
          2353,
          2932
         ],
         "yaxis": "y"
        },
        {
         "hovertemplate": "variable=TOTAL IPC CRIMES<br>YEAR=%{x}<br>value=%{y}<extra></extra>",
         "legendgroup": "TOTAL IPC CRIMES",
         "line": {
          "color": "#FECB52",
          "dash": "solid"
         },
         "marker": {
          "symbol": "circle"
         },
         "mode": "lines",
         "name": "TOTAL IPC CRIMES",
         "orientation": "v",
         "showlegend": true,
         "type": "scatter",
         "x": [
          2004,
          2005,
          2006,
          2007,
          2008,
          2009,
          2010,
          2011,
          2012
         ],
         "xaxis": "x",
         "y": [
          18868,
          17276,
          17295,
          17391,
          18567,
          17840,
          17549,
          15657,
          15992
         ],
         "yaxis": "y"
        },
        {
         "hovertemplate": "variable=GDP<br>YEAR=%{x}<br>value=%{y}<extra></extra>",
         "legendgroup": "GDP",
         "line": {
          "color": "#636efa",
          "dash": "solid"
         },
         "marker": {
          "symbol": "circle"
         },
         "mode": "lines",
         "name": "GDP",
         "orientation": "v",
         "showlegend": true,
         "type": "scatter",
         "x": [
          2004,
          2005,
          2006,
          2007,
          2008,
          2009,
          2010,
          2011,
          2012
         ],
         "xaxis": "x",
         "y": [
          6527.41,
          7058.6,
          8300.56,
          9860.16,
          12342.93,
          13291,
          16508,
          17330,
          19641
         ],
         "yaxis": "y"
        }
       ],
       "layout": {
        "legend": {
         "title": {
          "text": "variable"
         },
         "tracegroupgap": 0
        },
        "margin": {
         "t": 60
        },
        "template": {
         "data": {
          "bar": [
           {
            "error_x": {
             "color": "#2a3f5f"
            },
            "error_y": {
             "color": "#2a3f5f"
            },
            "marker": {
             "line": {
              "color": "#E5ECF6",
              "width": 0.5
             },
             "pattern": {
              "fillmode": "overlay",
              "size": 10,
              "solidity": 0.2
             }
            },
            "type": "bar"
           }
          ],
          "barpolar": [
           {
            "marker": {
             "line": {
              "color": "#E5ECF6",
              "width": 0.5
             },
             "pattern": {
              "fillmode": "overlay",
              "size": 10,
              "solidity": 0.2
             }
            },
            "type": "barpolar"
           }
          ],
          "carpet": [
           {
            "aaxis": {
             "endlinecolor": "#2a3f5f",
             "gridcolor": "white",
             "linecolor": "white",
             "minorgridcolor": "white",
             "startlinecolor": "#2a3f5f"
            },
            "baxis": {
             "endlinecolor": "#2a3f5f",
             "gridcolor": "white",
             "linecolor": "white",
             "minorgridcolor": "white",
             "startlinecolor": "#2a3f5f"
            },
            "type": "carpet"
           }
          ],
          "choropleth": [
           {
            "colorbar": {
             "outlinewidth": 0,
             "ticks": ""
            },
            "type": "choropleth"
           }
          ],
          "contour": [
           {
            "colorbar": {
             "outlinewidth": 0,
             "ticks": ""
            },
            "colorscale": [
             [
              0,
              "#0d0887"
             ],
             [
              0.1111111111111111,
              "#46039f"
             ],
             [
              0.2222222222222222,
              "#7201a8"
             ],
             [
              0.3333333333333333,
              "#9c179e"
             ],
             [
              0.4444444444444444,
              "#bd3786"
             ],
             [
              0.5555555555555556,
              "#d8576b"
             ],
             [
              0.6666666666666666,
              "#ed7953"
             ],
             [
              0.7777777777777778,
              "#fb9f3a"
             ],
             [
              0.8888888888888888,
              "#fdca26"
             ],
             [
              1,
              "#f0f921"
             ]
            ],
            "type": "contour"
           }
          ],
          "contourcarpet": [
           {
            "colorbar": {
             "outlinewidth": 0,
             "ticks": ""
            },
            "type": "contourcarpet"
           }
          ],
          "heatmap": [
           {
            "colorbar": {
             "outlinewidth": 0,
             "ticks": ""
            },
            "colorscale": [
             [
              0,
              "#0d0887"
             ],
             [
              0.1111111111111111,
              "#46039f"
             ],
             [
              0.2222222222222222,
              "#7201a8"
             ],
             [
              0.3333333333333333,
              "#9c179e"
             ],
             [
              0.4444444444444444,
              "#bd3786"
             ],
             [
              0.5555555555555556,
              "#d8576b"
             ],
             [
              0.6666666666666666,
              "#ed7953"
             ],
             [
              0.7777777777777778,
              "#fb9f3a"
             ],
             [
              0.8888888888888888,
              "#fdca26"
             ],
             [
              1,
              "#f0f921"
             ]
            ],
            "type": "heatmap"
           }
          ],
          "heatmapgl": [
           {
            "colorbar": {
             "outlinewidth": 0,
             "ticks": ""
            },
            "colorscale": [
             [
              0,
              "#0d0887"
             ],
             [
              0.1111111111111111,
              "#46039f"
             ],
             [
              0.2222222222222222,
              "#7201a8"
             ],
             [
              0.3333333333333333,
              "#9c179e"
             ],
             [
              0.4444444444444444,
              "#bd3786"
             ],
             [
              0.5555555555555556,
              "#d8576b"
             ],
             [
              0.6666666666666666,
              "#ed7953"
             ],
             [
              0.7777777777777778,
              "#fb9f3a"
             ],
             [
              0.8888888888888888,
              "#fdca26"
             ],
             [
              1,
              "#f0f921"
             ]
            ],
            "type": "heatmapgl"
           }
          ],
          "histogram": [
           {
            "marker": {
             "pattern": {
              "fillmode": "overlay",
              "size": 10,
              "solidity": 0.2
             }
            },
            "type": "histogram"
           }
          ],
          "histogram2d": [
           {
            "colorbar": {
             "outlinewidth": 0,
             "ticks": ""
            },
            "colorscale": [
             [
              0,
              "#0d0887"
             ],
             [
              0.1111111111111111,
              "#46039f"
             ],
             [
              0.2222222222222222,
              "#7201a8"
             ],
             [
              0.3333333333333333,
              "#9c179e"
             ],
             [
              0.4444444444444444,
              "#bd3786"
             ],
             [
              0.5555555555555556,
              "#d8576b"
             ],
             [
              0.6666666666666666,
              "#ed7953"
             ],
             [
              0.7777777777777778,
              "#fb9f3a"
             ],
             [
              0.8888888888888888,
              "#fdca26"
             ],
             [
              1,
              "#f0f921"
             ]
            ],
            "type": "histogram2d"
           }
          ],
          "histogram2dcontour": [
           {
            "colorbar": {
             "outlinewidth": 0,
             "ticks": ""
            },
            "colorscale": [
             [
              0,
              "#0d0887"
             ],
             [
              0.1111111111111111,
              "#46039f"
             ],
             [
              0.2222222222222222,
              "#7201a8"
             ],
             [
              0.3333333333333333,
              "#9c179e"
             ],
             [
              0.4444444444444444,
              "#bd3786"
             ],
             [
              0.5555555555555556,
              "#d8576b"
             ],
             [
              0.6666666666666666,
              "#ed7953"
             ],
             [
              0.7777777777777778,
              "#fb9f3a"
             ],
             [
              0.8888888888888888,
              "#fdca26"
             ],
             [
              1,
              "#f0f921"
             ]
            ],
            "type": "histogram2dcontour"
           }
          ],
          "mesh3d": [
           {
            "colorbar": {
             "outlinewidth": 0,
             "ticks": ""
            },
            "type": "mesh3d"
           }
          ],
          "parcoords": [
           {
            "line": {
             "colorbar": {
              "outlinewidth": 0,
              "ticks": ""
             }
            },
            "type": "parcoords"
           }
          ],
          "pie": [
           {
            "automargin": true,
            "type": "pie"
           }
          ],
          "scatter": [
           {
            "fillpattern": {
             "fillmode": "overlay",
             "size": 10,
             "solidity": 0.2
            },
            "type": "scatter"
           }
          ],
          "scatter3d": [
           {
            "line": {
             "colorbar": {
              "outlinewidth": 0,
              "ticks": ""
             }
            },
            "marker": {
             "colorbar": {
              "outlinewidth": 0,
              "ticks": ""
             }
            },
            "type": "scatter3d"
           }
          ],
          "scattercarpet": [
           {
            "marker": {
             "colorbar": {
              "outlinewidth": 0,
              "ticks": ""
             }
            },
            "type": "scattercarpet"
           }
          ],
          "scattergeo": [
           {
            "marker": {
             "colorbar": {
              "outlinewidth": 0,
              "ticks": ""
             }
            },
            "type": "scattergeo"
           }
          ],
          "scattergl": [
           {
            "marker": {
             "colorbar": {
              "outlinewidth": 0,
              "ticks": ""
             }
            },
            "type": "scattergl"
           }
          ],
          "scattermapbox": [
           {
            "marker": {
             "colorbar": {
              "outlinewidth": 0,
              "ticks": ""
             }
            },
            "type": "scattermapbox"
           }
          ],
          "scatterpolar": [
           {
            "marker": {
             "colorbar": {
              "outlinewidth": 0,
              "ticks": ""
             }
            },
            "type": "scatterpolar"
           }
          ],
          "scatterpolargl": [
           {
            "marker": {
             "colorbar": {
              "outlinewidth": 0,
              "ticks": ""
             }
            },
            "type": "scatterpolargl"
           }
          ],
          "scatterternary": [
           {
            "marker": {
             "colorbar": {
              "outlinewidth": 0,
              "ticks": ""
             }
            },
            "type": "scatterternary"
           }
          ],
          "surface": [
           {
            "colorbar": {
             "outlinewidth": 0,
             "ticks": ""
            },
            "colorscale": [
             [
              0,
              "#0d0887"
             ],
             [
              0.1111111111111111,
              "#46039f"
             ],
             [
              0.2222222222222222,
              "#7201a8"
             ],
             [
              0.3333333333333333,
              "#9c179e"
             ],
             [
              0.4444444444444444,
              "#bd3786"
             ],
             [
              0.5555555555555556,
              "#d8576b"
             ],
             [
              0.6666666666666666,
              "#ed7953"
             ],
             [
              0.7777777777777778,
              "#fb9f3a"
             ],
             [
              0.8888888888888888,
              "#fdca26"
             ],
             [
              1,
              "#f0f921"
             ]
            ],
            "type": "surface"
           }
          ],
          "table": [
           {
            "cells": {
             "fill": {
              "color": "#EBF0F8"
             },
             "line": {
              "color": "white"
             }
            },
            "header": {
             "fill": {
              "color": "#C8D4E3"
             },
             "line": {
              "color": "white"
             }
            },
            "type": "table"
           }
          ]
         },
         "layout": {
          "annotationdefaults": {
           "arrowcolor": "#2a3f5f",
           "arrowhead": 0,
           "arrowwidth": 1
          },
          "autotypenumbers": "strict",
          "coloraxis": {
           "colorbar": {
            "outlinewidth": 0,
            "ticks": ""
           }
          },
          "colorscale": {
           "diverging": [
            [
             0,
             "#8e0152"
            ],
            [
             0.1,
             "#c51b7d"
            ],
            [
             0.2,
             "#de77ae"
            ],
            [
             0.3,
             "#f1b6da"
            ],
            [
             0.4,
             "#fde0ef"
            ],
            [
             0.5,
             "#f7f7f7"
            ],
            [
             0.6,
             "#e6f5d0"
            ],
            [
             0.7,
             "#b8e186"
            ],
            [
             0.8,
             "#7fbc41"
            ],
            [
             0.9,
             "#4d9221"
            ],
            [
             1,
             "#276419"
            ]
           ],
           "sequential": [
            [
             0,
             "#0d0887"
            ],
            [
             0.1111111111111111,
             "#46039f"
            ],
            [
             0.2222222222222222,
             "#7201a8"
            ],
            [
             0.3333333333333333,
             "#9c179e"
            ],
            [
             0.4444444444444444,
             "#bd3786"
            ],
            [
             0.5555555555555556,
             "#d8576b"
            ],
            [
             0.6666666666666666,
             "#ed7953"
            ],
            [
             0.7777777777777778,
             "#fb9f3a"
            ],
            [
             0.8888888888888888,
             "#fdca26"
            ],
            [
             1,
             "#f0f921"
            ]
           ],
           "sequentialminus": [
            [
             0,
             "#0d0887"
            ],
            [
             0.1111111111111111,
             "#46039f"
            ],
            [
             0.2222222222222222,
             "#7201a8"
            ],
            [
             0.3333333333333333,
             "#9c179e"
            ],
            [
             0.4444444444444444,
             "#bd3786"
            ],
            [
             0.5555555555555556,
             "#d8576b"
            ],
            [
             0.6666666666666666,
             "#ed7953"
            ],
            [
             0.7777777777777778,
             "#fb9f3a"
            ],
            [
             0.8888888888888888,
             "#fdca26"
            ],
            [
             1,
             "#f0f921"
            ]
           ]
          },
          "colorway": [
           "#636efa",
           "#EF553B",
           "#00cc96",
           "#ab63fa",
           "#FFA15A",
           "#19d3f3",
           "#FF6692",
           "#B6E880",
           "#FF97FF",
           "#FECB52"
          ],
          "font": {
           "color": "#2a3f5f"
          },
          "geo": {
           "bgcolor": "white",
           "lakecolor": "white",
           "landcolor": "#E5ECF6",
           "showlakes": true,
           "showland": true,
           "subunitcolor": "white"
          },
          "hoverlabel": {
           "align": "left"
          },
          "hovermode": "closest",
          "mapbox": {
           "style": "light"
          },
          "paper_bgcolor": "white",
          "plot_bgcolor": "#E5ECF6",
          "polar": {
           "angularaxis": {
            "gridcolor": "white",
            "linecolor": "white",
            "ticks": ""
           },
           "bgcolor": "#E5ECF6",
           "radialaxis": {
            "gridcolor": "white",
            "linecolor": "white",
            "ticks": ""
           }
          },
          "scene": {
           "xaxis": {
            "backgroundcolor": "#E5ECF6",
            "gridcolor": "white",
            "gridwidth": 2,
            "linecolor": "white",
            "showbackground": true,
            "ticks": "",
            "zerolinecolor": "white"
           },
           "yaxis": {
            "backgroundcolor": "#E5ECF6",
            "gridcolor": "white",
            "gridwidth": 2,
            "linecolor": "white",
            "showbackground": true,
            "ticks": "",
            "zerolinecolor": "white"
           },
           "zaxis": {
            "backgroundcolor": "#E5ECF6",
            "gridcolor": "white",
            "gridwidth": 2,
            "linecolor": "white",
            "showbackground": true,
            "ticks": "",
            "zerolinecolor": "white"
           }
          },
          "shapedefaults": {
           "line": {
            "color": "#2a3f5f"
           }
          },
          "ternary": {
           "aaxis": {
            "gridcolor": "white",
            "linecolor": "white",
            "ticks": ""
           },
           "baxis": {
            "gridcolor": "white",
            "linecolor": "white",
            "ticks": ""
           },
           "bgcolor": "#E5ECF6",
           "caxis": {
            "gridcolor": "white",
            "linecolor": "white",
            "ticks": ""
           }
          },
          "title": {
           "x": 0.05
          },
          "xaxis": {
           "automargin": true,
           "gridcolor": "white",
           "linecolor": "white",
           "ticks": "",
           "title": {
            "standoff": 15
           },
           "zerolinecolor": "white",
           "zerolinewidth": 2
          },
          "yaxis": {
           "automargin": true,
           "gridcolor": "white",
           "linecolor": "white",
           "ticks": "",
           "title": {
            "standoff": 15
           },
           "zerolinecolor": "white",
           "zerolinewidth": 2
          }
         }
        },
        "xaxis": {
         "anchor": "y",
         "domain": [
          0,
          1
         ],
         "title": {
          "text": "YEAR"
         }
        },
        "yaxis": {
         "anchor": "x",
         "domain": [
          0,
          1
         ],
         "title": {
          "text": "value"
         }
        }
       }
      }
     },
     "metadata": {},
     "output_type": "display_data"
    }
   ],
   "source": [
    "list_of_crimes =[\n",
    "    'MURDER', 'ATTEMPT TO MURDER',\n",
    "       'CULPABLE HOMICIDE NOT AMOUNTING TO MURDER', 'RAPE', 'CUSTODIAL RAPE',\n",
    "       'OTHER RAPE', 'KIDNAPPING & ABDUCTION',\n",
    "       'KIDNAPPING AND ABDUCTION OF WOMEN AND GIRLS',\n",
    "       'KIDNAPPING AND ABDUCTION OF OTHERS', 'DACOITY',\n",
    "       'PREPARATION AND ASSEMBLY FOR DACOITY', 'ROBBERY', 'BURGLARY', 'THEFT',\n",
    "       'AUTO THEFT', 'OTHER THEFT', 'RIOTS', 'CRIMINAL BREACH OF TRUST',\n",
    "       'CHEATING', 'COUNTERFIETING', 'ARSON', 'HURT/GREVIOUS HURT',\n",
    "       'DOWRY DEATHS', 'ASSAULT ON WOMEN WITH INTENT TO OUTRAGE HER MODESTY',\n",
    "       'INSULT TO MODESTY OF WOMEN', 'CRUELTY BY HUSBAND OR HIS RELATIVES',\n",
    "       'IMPORTATION OF GIRLS FROM FOREIGN COUNTRIES',\n",
    "       'CAUSING DEATH BY NEGLIGENCE', 'OTHER IPC CRIMES', 'TOTAL IPC CRIMES',\n",
    "       'GDP'\n",
    "]\n",
    "\n",
    "fig = px.line(crime_dataset_hyderabad, x=\"YEAR\", y=list_of_crimes)\n",
    "fig.show()"
   ]
  },
  {
   "cell_type": "code",
   "execution_count": 156,
   "metadata": {},
   "outputs": [
    {
     "data": {
      "text/html": [
       "<div>\n",
       "<style scoped>\n",
       "    .dataframe tbody tr th:only-of-type {\n",
       "        vertical-align: middle;\n",
       "    }\n",
       "\n",
       "    .dataframe tbody tr th {\n",
       "        vertical-align: top;\n",
       "    }\n",
       "\n",
       "    .dataframe thead th {\n",
       "        text-align: right;\n",
       "    }\n",
       "</style>\n",
       "<table border=\"1\" class=\"dataframe\">\n",
       "  <thead>\n",
       "    <tr style=\"text-align: right;\">\n",
       "      <th></th>\n",
       "      <th>STATE/UT</th>\n",
       "      <th>YEAR</th>\n",
       "      <th>DEMOGRAPHIC PARTICULARS</th>\n",
       "      <th>Male Convicts</th>\n",
       "    </tr>\n",
       "  </thead>\n",
       "  <tbody>\n",
       "    <tr>\n",
       "      <th>0</th>\n",
       "      <td>ANDHRA PRADESH</td>\n",
       "      <td>2001</td>\n",
       "      <td>Educational Standard</td>\n",
       "      <td>4119</td>\n",
       "    </tr>\n",
       "    <tr>\n",
       "      <th>7</th>\n",
       "      <td>ANDHRA PRADESH</td>\n",
       "      <td>2002</td>\n",
       "      <td>Educational Standard</td>\n",
       "      <td>4721</td>\n",
       "    </tr>\n",
       "    <tr>\n",
       "      <th>14</th>\n",
       "      <td>ANDHRA PRADESH</td>\n",
       "      <td>2003</td>\n",
       "      <td>Educational Standard</td>\n",
       "      <td>4975</td>\n",
       "    </tr>\n",
       "    <tr>\n",
       "      <th>21</th>\n",
       "      <td>ANDHRA PRADESH</td>\n",
       "      <td>2004</td>\n",
       "      <td>Educational Standard</td>\n",
       "      <td>4568</td>\n",
       "    </tr>\n",
       "    <tr>\n",
       "      <th>28</th>\n",
       "      <td>ANDHRA PRADESH</td>\n",
       "      <td>2005</td>\n",
       "      <td>Educational Standard</td>\n",
       "      <td>4813</td>\n",
       "    </tr>\n",
       "    <tr>\n",
       "      <th>...</th>\n",
       "      <td>...</td>\n",
       "      <td>...</td>\n",
       "      <td>...</td>\n",
       "      <td>...</td>\n",
       "    </tr>\n",
       "    <tr>\n",
       "      <th>2840</th>\n",
       "      <td>PONDICHERRY</td>\n",
       "      <td>2008</td>\n",
       "      <td>Educational Standard</td>\n",
       "      <td>96</td>\n",
       "    </tr>\n",
       "    <tr>\n",
       "      <th>2847</th>\n",
       "      <td>PONDICHERRY</td>\n",
       "      <td>2009</td>\n",
       "      <td>Educational Standard</td>\n",
       "      <td>117</td>\n",
       "    </tr>\n",
       "    <tr>\n",
       "      <th>2854</th>\n",
       "      <td>PONDICHERRY</td>\n",
       "      <td>2010</td>\n",
       "      <td>Educational Standard</td>\n",
       "      <td>128</td>\n",
       "    </tr>\n",
       "    <tr>\n",
       "      <th>2861</th>\n",
       "      <td>PONDICHERRY</td>\n",
       "      <td>2011</td>\n",
       "      <td>Educational Standard</td>\n",
       "      <td>127</td>\n",
       "    </tr>\n",
       "    <tr>\n",
       "      <th>2868</th>\n",
       "      <td>PONDICHERRY</td>\n",
       "      <td>2012</td>\n",
       "      <td>Educational Standard</td>\n",
       "      <td>107</td>\n",
       "    </tr>\n",
       "  </tbody>\n",
       "</table>\n",
       "<p>412 rows × 4 columns</p>\n",
       "</div>"
      ],
      "text/plain": [
       "            STATE/UT  YEAR DEMOGRAPHIC PARTICULARS  Male Convicts\n",
       "0     ANDHRA PRADESH  2001    Educational Standard           4119\n",
       "7     ANDHRA PRADESH  2002    Educational Standard           4721\n",
       "14    ANDHRA PRADESH  2003    Educational Standard           4975\n",
       "21    ANDHRA PRADESH  2004    Educational Standard           4568\n",
       "28    ANDHRA PRADESH  2005    Educational Standard           4813\n",
       "...              ...   ...                     ...            ...\n",
       "2840     PONDICHERRY  2008    Educational Standard             96\n",
       "2847     PONDICHERRY  2009    Educational Standard            117\n",
       "2854     PONDICHERRY  2010    Educational Standard            128\n",
       "2861     PONDICHERRY  2011    Educational Standard            127\n",
       "2868     PONDICHERRY  2012    Educational Standard            107\n",
       "\n",
       "[412 rows x 4 columns]"
      ]
     },
     "execution_count": 156,
     "metadata": {},
     "output_type": "execute_result"
    }
   ],
   "source": [
    "education_dataset[['STATE/UT','YEAR','DEMOGRAPHIC PARTICULARS','Male Convicts']].loc[\n",
    "    education_dataset['DEMOGRAPHIC PARTICULARS'] == 'Educational Standard'] "
   ]
  },
  {
   "cell_type": "code",
   "execution_count": 157,
   "metadata": {},
   "outputs": [
    {
     "data": {
      "text/html": [
       "<div>\n",
       "<style scoped>\n",
       "    .dataframe tbody tr th:only-of-type {\n",
       "        vertical-align: middle;\n",
       "    }\n",
       "\n",
       "    .dataframe tbody tr th {\n",
       "        vertical-align: top;\n",
       "    }\n",
       "\n",
       "    .dataframe thead th {\n",
       "        text-align: right;\n",
       "    }\n",
       "</style>\n",
       "<table border=\"1\" class=\"dataframe\">\n",
       "  <thead>\n",
       "    <tr style=\"text-align: right;\">\n",
       "      <th></th>\n",
       "      <th>STATE/UT</th>\n",
       "      <th>YEAR</th>\n",
       "      <th>DEMOGRAPHIC PARTICULARS</th>\n",
       "      <th>Male Convicts</th>\n",
       "      <th>Female Convicts</th>\n",
       "      <th>Total Convicts</th>\n",
       "      <th>Male Under trial</th>\n",
       "      <th>Female Under trial</th>\n",
       "      <th>Total Under trial</th>\n",
       "      <th>Male Detenues</th>\n",
       "      <th>Female Detenues</th>\n",
       "      <th>Total Detenues</th>\n",
       "      <th>Male Others</th>\n",
       "      <th>Female Others</th>\n",
       "      <th>Total Others</th>\n",
       "      <th>Total Male</th>\n",
       "      <th>Total Female</th>\n",
       "      <th>Grand Total</th>\n",
       "    </tr>\n",
       "  </thead>\n",
       "  <tbody>\n",
       "    <tr>\n",
       "      <th>0</th>\n",
       "      <td>ANDHRA PRADESH</td>\n",
       "      <td>2001</td>\n",
       "      <td>Educational Standard</td>\n",
       "      <td>4119</td>\n",
       "      <td>102</td>\n",
       "      <td>4221</td>\n",
       "      <td>8360</td>\n",
       "      <td>482</td>\n",
       "      <td>8842</td>\n",
       "      <td>4</td>\n",
       "      <td>1</td>\n",
       "      <td>5</td>\n",
       "      <td>22</td>\n",
       "      <td>0</td>\n",
       "      <td>22</td>\n",
       "      <td>12505</td>\n",
       "      <td>585</td>\n",
       "      <td>13090</td>\n",
       "    </tr>\n",
       "    <tr>\n",
       "      <th>1</th>\n",
       "      <td>ANDHRA PRADESH</td>\n",
       "      <td>2001</td>\n",
       "      <td>Educational Standard - Illiterate</td>\n",
       "      <td>1441</td>\n",
       "      <td>82</td>\n",
       "      <td>1523</td>\n",
       "      <td>3794</td>\n",
       "      <td>361</td>\n",
       "      <td>4155</td>\n",
       "      <td>1</td>\n",
       "      <td>1</td>\n",
       "      <td>2</td>\n",
       "      <td>8</td>\n",
       "      <td>0</td>\n",
       "      <td>8</td>\n",
       "      <td>5244</td>\n",
       "      <td>444</td>\n",
       "      <td>5688</td>\n",
       "    </tr>\n",
       "    <tr>\n",
       "      <th>2</th>\n",
       "      <td>ANDHRA PRADESH</td>\n",
       "      <td>2001</td>\n",
       "      <td>Educational Standard - Below Class X</td>\n",
       "      <td>1729</td>\n",
       "      <td>20</td>\n",
       "      <td>1749</td>\n",
       "      <td>2833</td>\n",
       "      <td>89</td>\n",
       "      <td>2922</td>\n",
       "      <td>0</td>\n",
       "      <td>0</td>\n",
       "      <td>0</td>\n",
       "      <td>10</td>\n",
       "      <td>0</td>\n",
       "      <td>10</td>\n",
       "      <td>4572</td>\n",
       "      <td>109</td>\n",
       "      <td>4681</td>\n",
       "    </tr>\n",
       "    <tr>\n",
       "      <th>3</th>\n",
       "      <td>ANDHRA PRADESH</td>\n",
       "      <td>2001</td>\n",
       "      <td>Educational Standard - Class X and above but b...</td>\n",
       "      <td>532</td>\n",
       "      <td>0</td>\n",
       "      <td>532</td>\n",
       "      <td>1260</td>\n",
       "      <td>26</td>\n",
       "      <td>1286</td>\n",
       "      <td>2</td>\n",
       "      <td>0</td>\n",
       "      <td>2</td>\n",
       "      <td>2</td>\n",
       "      <td>0</td>\n",
       "      <td>2</td>\n",
       "      <td>1796</td>\n",
       "      <td>26</td>\n",
       "      <td>1822</td>\n",
       "    </tr>\n",
       "    <tr>\n",
       "      <th>4</th>\n",
       "      <td>ANDHRA PRADESH</td>\n",
       "      <td>2001</td>\n",
       "      <td>Educational Standard - Graduate</td>\n",
       "      <td>299</td>\n",
       "      <td>0</td>\n",
       "      <td>299</td>\n",
       "      <td>272</td>\n",
       "      <td>3</td>\n",
       "      <td>275</td>\n",
       "      <td>0</td>\n",
       "      <td>0</td>\n",
       "      <td>0</td>\n",
       "      <td>2</td>\n",
       "      <td>0</td>\n",
       "      <td>2</td>\n",
       "      <td>573</td>\n",
       "      <td>3</td>\n",
       "      <td>576</td>\n",
       "    </tr>\n",
       "    <tr>\n",
       "      <th>...</th>\n",
       "      <td>...</td>\n",
       "      <td>...</td>\n",
       "      <td>...</td>\n",
       "      <td>...</td>\n",
       "      <td>...</td>\n",
       "      <td>...</td>\n",
       "      <td>...</td>\n",
       "      <td>...</td>\n",
       "      <td>...</td>\n",
       "      <td>...</td>\n",
       "      <td>...</td>\n",
       "      <td>...</td>\n",
       "      <td>...</td>\n",
       "      <td>...</td>\n",
       "      <td>...</td>\n",
       "      <td>...</td>\n",
       "      <td>...</td>\n",
       "      <td>...</td>\n",
       "    </tr>\n",
       "    <tr>\n",
       "      <th>2870</th>\n",
       "      <td>PONDICHERRY</td>\n",
       "      <td>2012</td>\n",
       "      <td>Educational Standard - Below Class X</td>\n",
       "      <td>42</td>\n",
       "      <td>1</td>\n",
       "      <td>43</td>\n",
       "      <td>74</td>\n",
       "      <td>0</td>\n",
       "      <td>74</td>\n",
       "      <td>0</td>\n",
       "      <td>0</td>\n",
       "      <td>0</td>\n",
       "      <td>0</td>\n",
       "      <td>0</td>\n",
       "      <td>0</td>\n",
       "      <td>116</td>\n",
       "      <td>1</td>\n",
       "      <td>117</td>\n",
       "    </tr>\n",
       "    <tr>\n",
       "      <th>2871</th>\n",
       "      <td>PONDICHERRY</td>\n",
       "      <td>2012</td>\n",
       "      <td>Educational Standard - Class X and above but b...</td>\n",
       "      <td>14</td>\n",
       "      <td>0</td>\n",
       "      <td>14</td>\n",
       "      <td>48</td>\n",
       "      <td>0</td>\n",
       "      <td>48</td>\n",
       "      <td>0</td>\n",
       "      <td>0</td>\n",
       "      <td>0</td>\n",
       "      <td>0</td>\n",
       "      <td>0</td>\n",
       "      <td>0</td>\n",
       "      <td>62</td>\n",
       "      <td>0</td>\n",
       "      <td>62</td>\n",
       "    </tr>\n",
       "    <tr>\n",
       "      <th>2872</th>\n",
       "      <td>PONDICHERRY</td>\n",
       "      <td>2012</td>\n",
       "      <td>Educational Standard - Graduate</td>\n",
       "      <td>8</td>\n",
       "      <td>0</td>\n",
       "      <td>8</td>\n",
       "      <td>8</td>\n",
       "      <td>0</td>\n",
       "      <td>8</td>\n",
       "      <td>0</td>\n",
       "      <td>0</td>\n",
       "      <td>0</td>\n",
       "      <td>0</td>\n",
       "      <td>0</td>\n",
       "      <td>0</td>\n",
       "      <td>16</td>\n",
       "      <td>0</td>\n",
       "      <td>16</td>\n",
       "    </tr>\n",
       "    <tr>\n",
       "      <th>2873</th>\n",
       "      <td>PONDICHERRY</td>\n",
       "      <td>2012</td>\n",
       "      <td>Educational Standard - Post-Graduate</td>\n",
       "      <td>0</td>\n",
       "      <td>0</td>\n",
       "      <td>0</td>\n",
       "      <td>1</td>\n",
       "      <td>0</td>\n",
       "      <td>1</td>\n",
       "      <td>0</td>\n",
       "      <td>0</td>\n",
       "      <td>0</td>\n",
       "      <td>0</td>\n",
       "      <td>0</td>\n",
       "      <td>0</td>\n",
       "      <td>1</td>\n",
       "      <td>0</td>\n",
       "      <td>1</td>\n",
       "    </tr>\n",
       "    <tr>\n",
       "      <th>2874</th>\n",
       "      <td>PONDICHERRY</td>\n",
       "      <td>2012</td>\n",
       "      <td>Educational Standard - Holding technical degre...</td>\n",
       "      <td>1</td>\n",
       "      <td>0</td>\n",
       "      <td>1</td>\n",
       "      <td>0</td>\n",
       "      <td>0</td>\n",
       "      <td>0</td>\n",
       "      <td>0</td>\n",
       "      <td>0</td>\n",
       "      <td>0</td>\n",
       "      <td>0</td>\n",
       "      <td>0</td>\n",
       "      <td>0</td>\n",
       "      <td>1</td>\n",
       "      <td>0</td>\n",
       "      <td>1</td>\n",
       "    </tr>\n",
       "  </tbody>\n",
       "</table>\n",
       "<p>2875 rows × 18 columns</p>\n",
       "</div>"
      ],
      "text/plain": [
       "            STATE/UT  YEAR                            DEMOGRAPHIC PARTICULARS  \\\n",
       "0     ANDHRA PRADESH  2001                               Educational Standard   \n",
       "1     ANDHRA PRADESH  2001                  Educational Standard - Illiterate   \n",
       "2     ANDHRA PRADESH  2001               Educational Standard - Below Class X   \n",
       "3     ANDHRA PRADESH  2001  Educational Standard - Class X and above but b...   \n",
       "4     ANDHRA PRADESH  2001                    Educational Standard - Graduate   \n",
       "...              ...   ...                                                ...   \n",
       "2870     PONDICHERRY  2012               Educational Standard - Below Class X   \n",
       "2871     PONDICHERRY  2012  Educational Standard - Class X and above but b...   \n",
       "2872     PONDICHERRY  2012                    Educational Standard - Graduate   \n",
       "2873     PONDICHERRY  2012               Educational Standard - Post-Graduate   \n",
       "2874     PONDICHERRY  2012  Educational Standard - Holding technical degre...   \n",
       "\n",
       "      Male Convicts  Female Convicts  Total Convicts  Male Under trial  \\\n",
       "0              4119              102            4221              8360   \n",
       "1              1441               82            1523              3794   \n",
       "2              1729               20            1749              2833   \n",
       "3               532                0             532              1260   \n",
       "4               299                0             299               272   \n",
       "...             ...              ...             ...               ...   \n",
       "2870             42                1              43                74   \n",
       "2871             14                0              14                48   \n",
       "2872              8                0               8                 8   \n",
       "2873              0                0               0                 1   \n",
       "2874              1                0               1                 0   \n",
       "\n",
       "      Female Under trial  Total Under trial  Male Detenues  Female Detenues  \\\n",
       "0                    482               8842              4                1   \n",
       "1                    361               4155              1                1   \n",
       "2                     89               2922              0                0   \n",
       "3                     26               1286              2                0   \n",
       "4                      3                275              0                0   \n",
       "...                  ...                ...            ...              ...   \n",
       "2870                   0                 74              0                0   \n",
       "2871                   0                 48              0                0   \n",
       "2872                   0                  8              0                0   \n",
       "2873                   0                  1              0                0   \n",
       "2874                   0                  0              0                0   \n",
       "\n",
       "      Total Detenues  Male Others  Female Others  Total Others  Total Male  \\\n",
       "0                  5           22              0            22       12505   \n",
       "1                  2            8              0             8        5244   \n",
       "2                  0           10              0            10        4572   \n",
       "3                  2            2              0             2        1796   \n",
       "4                  0            2              0             2         573   \n",
       "...              ...          ...            ...           ...         ...   \n",
       "2870               0            0              0             0         116   \n",
       "2871               0            0              0             0          62   \n",
       "2872               0            0              0             0          16   \n",
       "2873               0            0              0             0           1   \n",
       "2874               0            0              0             0           1   \n",
       "\n",
       "      Total Female  Grand Total  \n",
       "0              585        13090  \n",
       "1              444         5688  \n",
       "2              109         4681  \n",
       "3               26         1822  \n",
       "4                3          576  \n",
       "...            ...          ...  \n",
       "2870             1          117  \n",
       "2871             0           62  \n",
       "2872             0           16  \n",
       "2873             0            1  \n",
       "2874             0            1  \n",
       "\n",
       "[2875 rows x 18 columns]"
      ]
     },
     "execution_count": 157,
     "metadata": {},
     "output_type": "execute_result"
    }
   ],
   "source": [
    "education_dataset"
   ]
  },
  {
   "cell_type": "code",
   "execution_count": null,
   "metadata": {},
   "outputs": [],
   "source": []
  }
 ],
 "metadata": {
  "kernelspec": {
   "display_name": "Python 3.8.3 ('base')",
   "language": "python",
   "name": "python3"
  },
  "language_info": {
   "codemirror_mode": {
    "name": "ipython",
    "version": 3
   },
   "file_extension": ".py",
   "mimetype": "text/x-python",
   "name": "python",
   "nbconvert_exporter": "python",
   "pygments_lexer": "ipython3",
   "version": "3.8.3"
  },
  "orig_nbformat": 4,
  "vscode": {
   "interpreter": {
    "hash": "56adf854240f71f5e5fdfda40a9d797482ce18808728caf1a50bd4b9f7796afe"
   }
  }
 },
 "nbformat": 4,
 "nbformat_minor": 2
}
